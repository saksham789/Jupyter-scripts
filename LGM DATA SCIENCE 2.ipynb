{
 "cells": [
  {
   "cell_type": "code",
   "execution_count": 1,
   "metadata": {},
   "outputs": [
    {
     "name": "stdout",
     "output_type": "stream",
     "text": [
      "/home/saksham/Documents/Hackearth/LGM_data_analytics/Data\n"
     ]
    }
   ],
   "source": [
    "cd Hackearth/LGM_data_analytics/Data"
   ]
  },
  {
   "cell_type": "code",
   "execution_count": 2,
   "metadata": {},
   "outputs": [],
   "source": [
    "import numpy as np \n",
    "import pandas as pd\n",
    "import matplotlib.pyplot as plt\n",
    "from sklearn.preprocessing import LabelEncoder\n",
    "%matplotlib inline\n",
    "from sklearn.model_selection import train_test_split\n",
    "from sklearn.model_selection import StratifiedShuffleSplit\n",
    "import seaborn as sns\n",
    "from sklearn.model_selection import StratifiedKFold\n",
    "import os\n",
    "from sklearn.metrics import f1_score\n",
    "le=LabelEncoder()\n",
    "from sklearn.neighbors import KNeighborsClassifier"
   ]
  },
  {
   "cell_type": "code",
   "execution_count": 3,
   "metadata": {},
   "outputs": [],
   "source": [
    "test=pd.read_excel(\"Test_Set.xlsx\")"
   ]
  },
  {
   "cell_type": "code",
   "execution_count": 39,
   "metadata": {},
   "outputs": [],
   "source": [
    "X_train_1=pd.read_csv(\"X_train_1.csv\")\n",
    "pos_X_train=pd.read_csv(\"pos_X_train.csv\")\n",
    "X_test=pd.read_csv(\"X_test.csv\")\n",
    "Y_train_1=np.array([0]*(X_train_1.shape[0]-pos_X_train.shape[0])+[1]*(pos_X_train.shape[0]))\n",
    "X_train_1=X_train_1.iloc[:,1:]\n",
    "X_test=X_test.iloc[:,1:]"
   ]
  },
  {
   "cell_type": "code",
   "execution_count": 50,
   "metadata": {},
   "outputs": [
    {
     "data": {
      "text/plain": [
       "(684287, 17)"
      ]
     },
     "execution_count": 50,
     "metadata": {},
     "output_type": "execute_result"
    }
   ],
   "source": [
    "X_train_1.shape"
   ]
  },
  {
   "cell_type": "code",
   "execution_count": 66,
   "metadata": {},
   "outputs": [],
   "source": [
    "X_train_2=pd.read_csv(\"X_train_2.csv\")\n",
    "pos_X_train=pd.read_csv(\"pos_X_train.csv\")\n",
    "X_test=pd.read_csv(\"X_test.csv\")\n",
    "Y_train_2=np.array([0]*(X_train_2.shape[0]-pos_X_train.shape[0])+[1]*(pos_X_train.shape[0]))\n",
    "X_train_2=X_train_2.iloc[:,1:]\n",
    "X_test=X_test.iloc[:,1:]"
   ]
  },
  {
   "cell_type": "code",
   "execution_count": 16,
   "metadata": {},
   "outputs": [],
   "source": [
    "X_train_3=pd.read_csv(\"X_train_3.csv\")\n",
    "pos_X_train=pd.read_csv(\"pos_X_train.csv\")\n",
    "X_test=pd.read_csv(\"X_test.csv\")\n",
    "Y_train_3=np.array([0]*(X_train_3.shape[0]-pos_X_train.shape[0])+[1]*(pos_X_train.shape[0]))\n",
    "X_train_3=X_train_3.iloc[:,1:]\n",
    "X_test=X_test.iloc[:,1:]"
   ]
  },
  {
   "cell_type": "code",
   "execution_count": 17,
   "metadata": {},
   "outputs": [],
   "source": [
    "X_train_4=pd.read_csv(\"X_train_4.csv\")\n",
    "pos_X_train=pd.read_csv(\"pos_X_train.csv\")\n",
    "X_test=pd.read_csv(\"X_test.csv\")\n",
    "Y_train_4=np.array([0]*(X_train_4.shape[0]-pos_X_train.shape[0])+[1]*(pos_X_train.shape[0]))\n",
    "X_train_4=X_train_4.iloc[:,1:]\n",
    "X_test=X_test.iloc[:,1:]"
   ]
  },
  {
   "cell_type": "code",
   "execution_count": 18,
   "metadata": {},
   "outputs": [],
   "source": [
    "X_train_5=pd.read_csv(\"X_train_5.csv\")\n",
    "pos_X_train=pd.read_csv(\"pos_X_train.csv\")\n",
    "X_test=pd.read_csv(\"X_test.csv\")\n",
    "Y_train_5=np.array([0]*(X_train_5.shape[0]-pos_X_train.shape[0])+[1]*(pos_X_train.shape[0]))\n",
    "X_train_5=X_train_5.iloc[:,1:]\n",
    "X_test=X_test.iloc[:,1:]"
   ]
  },
  {
   "cell_type": "code",
   "execution_count": 19,
   "metadata": {},
   "outputs": [],
   "source": [
    "X_train_6=pd.read_csv(\"X_train_6.csv\")\n",
    "pos_X_train=pd.read_csv(\"pos_X_train.csv\")\n",
    "X_test=pd.read_csv(\"X_test.csv\")\n",
    "Y_train_6=np.array([0]*(X_train_6.shape[0]-pos_X_train.shape[0])+[1]*(pos_X_train.shape[0]))\n",
    "X_train_6=X_train_6.iloc[:,1:]\n",
    "X_test=X_test.iloc[:,1:]"
   ]
  },
  {
   "cell_type": "code",
   "execution_count": 43,
   "metadata": {},
   "outputs": [
    {
     "data": {
      "text/plain": [
       "Index(['Region', 'Region_Code', 'Store_Format', 'Sales_Per_Day',\n",
       "       'Store_Size_Sq_Ft', 'Total_Revenue', 'Age_of store', 'Nationality',\n",
       "       'Income_Range', 'Job_Type', 'Marital_Status', 'Gender', 'State',\n",
       "       'Language', 'Loyalty_Status', 'Age', 'Points'],\n",
       "      dtype='object')"
      ]
     },
     "execution_count": 43,
     "metadata": {},
     "output_type": "execute_result"
    }
   ],
   "source": [
    "X_train_1.columns"
   ]
  },
  {
   "cell_type": "code",
   "execution_count": 40,
   "metadata": {},
   "outputs": [],
   "source": [
    "X_train=X_train_1.copy()\n",
    "X_tt=X_test.copy()\n",
    "X_train.drop(\"Age\",axis=1,inplace=True)\n",
    "X_tt.drop(\"Age\",axis=1,inplace=True)\n",
    "\n"
   ]
  },
  {
   "cell_type": "code",
   "execution_count": 44,
   "metadata": {},
   "outputs": [],
   "source": [
    "X_tr, X_val, y_tr, y_val=train_test_split(X_train_1,Y_train_1,test_size=.25,stratify=Y_train_1)"
   ]
  },
  {
   "cell_type": "code",
   "execution_count": 8,
   "metadata": {},
   "outputs": [],
   "source": [
    "from xgboost import XGBClassifier"
   ]
  },
  {
   "cell_type": "code",
   "execution_count": 55,
   "metadata": {},
   "outputs": [
    {
     "data": {
      "text/plain": [
       "XGBClassifier(base_score=0.5, booster='gbtree', colsample_bylevel=1,\n",
       "       colsample_bytree=1, gamma=0, learning_rate=0.01, max_delta_step=0,\n",
       "       max_depth=6, min_child_weight=1, missing=None, n_estimators=3000,\n",
       "       n_jobs=1, nthread=None, objective='binary:logistic', random_state=0,\n",
       "       reg_alpha=0, reg_lambda=1, scale_pos_weight=1, seed=None,\n",
       "       silent=True, subsample=1)"
      ]
     },
     "execution_count": 55,
     "metadata": {},
     "output_type": "execute_result"
    }
   ],
   "source": [
    "clf=XGBClassifier(n_estimators=3000,learning_rate=0.01,max_depth=6)\n",
    "\n",
    "clf.fit(X_tr,y_tr)\n"
   ]
  },
  {
   "cell_type": "code",
   "execution_count": 56,
   "metadata": {},
   "outputs": [
    {
     "name": "stderr",
     "output_type": "stream",
     "text": [
      "/home/saksham/.local/lib/python3.6/site-packages/sklearn/preprocessing/label.py:151: DeprecationWarning: The truth value of an empty array is ambiguous. Returning False, but in future this will result in an error. Use `array.size > 0` to check that an array is not empty.\n",
      "  if diff:\n"
     ]
    },
    {
     "data": {
      "text/plain": [
       "0.7398812862217236"
      ]
     },
     "execution_count": 56,
     "metadata": {},
     "output_type": "execute_result"
    }
   ],
   "source": [
    "pred=clf.predict(X_val)\n",
    "f1_score(y_val,pred)"
   ]
  },
  {
   "cell_type": "code",
   "execution_count": 57,
   "metadata": {},
   "outputs": [
    {
     "name": "stderr",
     "output_type": "stream",
     "text": [
      "/home/saksham/.local/lib/python3.6/site-packages/sklearn/preprocessing/label.py:151: DeprecationWarning: The truth value of an empty array is ambiguous. Returning False, but in future this will result in an error. Use `array.size > 0` to check that an array is not empty.\n",
      "  if diff:\n"
     ]
    }
   ],
   "source": [
    "prediction=clf.predict(X_test)\n"
   ]
  },
  {
   "cell_type": "code",
   "execution_count": 60,
   "metadata": {},
   "outputs": [
    {
     "data": {
      "text/plain": [
       "(array([0, 1]), array([259521, 140479]))"
      ]
     },
     "execution_count": 60,
     "metadata": {},
     "output_type": "execute_result"
    }
   ],
   "source": [
    "np.unique(prediction,return_counts=True)"
   ]
  },
  {
   "cell_type": "code",
   "execution_count": 65,
   "metadata": {},
   "outputs": [],
   "source": [
    "test[\"Prediction\"]=prediction\n",
    "test.to_csv(\"Submission_X_train_1.csv\",index=False)"
   ]
  },
  {
   "cell_type": "code",
   "execution_count": 67,
   "metadata": {},
   "outputs": [],
   "source": [
    "## Case 2\n",
    "X_tr, X_val, y_tr, y_val=train_test_split(X_train_2,Y_train_2,test_size=.25,stratify=Y_train_2)"
   ]
  },
  {
   "cell_type": "code",
   "execution_count": 68,
   "metadata": {},
   "outputs": [
    {
     "data": {
      "text/plain": [
       "XGBClassifier(base_score=0.5, booster='gbtree', colsample_bylevel=1,\n",
       "       colsample_bytree=1, gamma=0, learning_rate=0.01, max_delta_step=0,\n",
       "       max_depth=6, min_child_weight=1, missing=None, n_estimators=3000,\n",
       "       n_jobs=1, nthread=None, objective='binary:logistic', random_state=0,\n",
       "       reg_alpha=0, reg_lambda=1, scale_pos_weight=1, seed=None,\n",
       "       silent=True, subsample=1)"
      ]
     },
     "execution_count": 68,
     "metadata": {},
     "output_type": "execute_result"
    }
   ],
   "source": [
    "clf=XGBClassifier(n_estimators=3000,learning_rate=0.01,max_depth=6)\n",
    "\n",
    "clf.fit(X_tr,y_tr)\n"
   ]
  },
  {
   "cell_type": "code",
   "execution_count": 69,
   "metadata": {},
   "outputs": [
    {
     "name": "stderr",
     "output_type": "stream",
     "text": [
      "/home/saksham/.local/lib/python3.6/site-packages/sklearn/preprocessing/label.py:151: DeprecationWarning: The truth value of an empty array is ambiguous. Returning False, but in future this will result in an error. Use `array.size > 0` to check that an array is not empty.\n",
      "  if diff:\n"
     ]
    },
    {
     "data": {
      "text/plain": [
       "0.6598996040898383"
      ]
     },
     "execution_count": 69,
     "metadata": {},
     "output_type": "execute_result"
    }
   ],
   "source": [
    "pred=clf.predict(X_val)\n",
    "f1_score(y_val,pred)"
   ]
  },
  {
   "cell_type": "code",
   "execution_count": 70,
   "metadata": {},
   "outputs": [
    {
     "name": "stderr",
     "output_type": "stream",
     "text": [
      "/home/saksham/.local/lib/python3.6/site-packages/sklearn/preprocessing/label.py:151: DeprecationWarning: The truth value of an empty array is ambiguous. Returning False, but in future this will result in an error. Use `array.size > 0` to check that an array is not empty.\n",
      "  if diff:\n"
     ]
    }
   ],
   "source": [
    "prediction=clf.predict(X_test)\n",
    "test[\"Prediction\"]=prediction\n",
    "test.to_csv(\"Submission_X_train_2.csv\",index=False)"
   ]
  },
  {
   "cell_type": "code",
   "execution_count": 9,
   "metadata": {},
   "outputs": [
    {
     "name": "stderr",
     "output_type": "stream",
     "text": [
      "/home/saksham/.local/lib/python3.6/site-packages/sklearn/preprocessing/label.py:151: DeprecationWarning: The truth value of an empty array is ambiguous. Returning False, but in future this will result in an error. Use `array.size > 0` to check that an array is not empty.\n",
      "  if diff:\n"
     ]
    },
    {
     "data": {
      "text/plain": [
       "0.660462360680828"
      ]
     },
     "execution_count": 9,
     "metadata": {},
     "output_type": "execute_result"
    }
   ],
   "source": [
    "#Case 3\n",
    "X_tr, X_val, y_tr, y_val=train_test_split(X_train_3,Y_train_3,test_size=.25,stratify=Y_train_3)\n",
    "clf=XGBClassifier(n_estimators=3000,learning_rate=0.01,max_depth=6)\n",
    "\n",
    "clf.fit(X_tr,y_tr)\n",
    "pred=clf.predict(X_val)\n",
    "f1_score(y_val,pred)"
   ]
  },
  {
   "cell_type": "code",
   "execution_count": 11,
   "metadata": {},
   "outputs": [
    {
     "data": {
      "text/plain": [
       "Index(['Unnamed: 0', 'Region', 'Region_Code', 'Store_Format', 'Sales_Per_Day',\n",
       "       'Store_Size_Sq_Ft', 'Total_Revenue', 'Age_of store', 'Nationality',\n",
       "       'Income_Range', 'Job_Type', 'Marital_Status', 'Gender', 'State',\n",
       "       'Language', 'Loyalty_Status', 'Age', 'Points'],\n",
       "      dtype='object')"
      ]
     },
     "execution_count": 11,
     "metadata": {},
     "output_type": "execute_result"
    }
   ],
   "source": [
    "X_test.columns"
   ]
  },
  {
   "cell_type": "code",
   "execution_count": 20,
   "metadata": {},
   "outputs": [
    {
     "name": "stderr",
     "output_type": "stream",
     "text": [
      "/home/saksham/.local/lib/python3.6/site-packages/sklearn/preprocessing/label.py:151: DeprecationWarning: The truth value of an empty array is ambiguous. Returning False, but in future this will result in an error. Use `array.size > 0` to check that an array is not empty.\n",
      "  if diff:\n"
     ]
    }
   ],
   "source": [
    "prediction=clf.predict(X_test)\n",
    "test[\"Prediction\"]=prediction\n",
    "test.to_csv(\"Submission_X_train_3.csv\",index=False)"
   ]
  },
  {
   "cell_type": "code",
   "execution_count": 21,
   "metadata": {},
   "outputs": [
    {
     "name": "stderr",
     "output_type": "stream",
     "text": [
      "/home/saksham/.local/lib/python3.6/site-packages/sklearn/preprocessing/label.py:151: DeprecationWarning: The truth value of an empty array is ambiguous. Returning False, but in future this will result in an error. Use `array.size > 0` to check that an array is not empty.\n",
      "  if diff:\n"
     ]
    },
    {
     "data": {
      "text/plain": [
       "0.6542847507587775"
      ]
     },
     "execution_count": 21,
     "metadata": {},
     "output_type": "execute_result"
    }
   ],
   "source": [
    "#Case 4\n",
    "X_tr, X_val, y_tr, y_val=train_test_split(X_train_4,Y_train_4,test_size=.25,stratify=Y_train_4)\n",
    "clf=XGBClassifier(n_estimators=3000,learning_rate=0.01,max_depth=6)\n",
    "\n",
    "clf.fit(X_tr,y_tr)\n",
    "pred=clf.predict(X_val)\n",
    "f1_score(y_val,pred)"
   ]
  },
  {
   "cell_type": "code",
   "execution_count": 22,
   "metadata": {},
   "outputs": [
    {
     "name": "stderr",
     "output_type": "stream",
     "text": [
      "/home/saksham/.local/lib/python3.6/site-packages/sklearn/preprocessing/label.py:151: DeprecationWarning: The truth value of an empty array is ambiguous. Returning False, but in future this will result in an error. Use `array.size > 0` to check that an array is not empty.\n",
      "  if diff:\n"
     ]
    }
   ],
   "source": [
    "prediction=clf.predict(X_test)\n",
    "test[\"Prediction\"]=prediction\n",
    "test.to_csv(\"Submission_X_train_4.csv\",index=False)"
   ]
  },
  {
   "cell_type": "code",
   "execution_count": 23,
   "metadata": {},
   "outputs": [
    {
     "name": "stderr",
     "output_type": "stream",
     "text": [
      "/home/saksham/.local/lib/python3.6/site-packages/sklearn/preprocessing/label.py:151: DeprecationWarning: The truth value of an empty array is ambiguous. Returning False, but in future this will result in an error. Use `array.size > 0` to check that an array is not empty.\n",
      "  if diff:\n"
     ]
    },
    {
     "data": {
      "text/plain": [
       "0.6971302481783684"
      ]
     },
     "execution_count": 23,
     "metadata": {},
     "output_type": "execute_result"
    }
   ],
   "source": [
    "#Case 5\n",
    "X_tr, X_val, y_tr, y_val=train_test_split(X_train_5,Y_train_5,test_size=.25,stratify=Y_train_5)\n",
    "clf=XGBClassifier(n_estimators=3000,learning_rate=0.01,max_depth=6)\n",
    "\n",
    "clf.fit(X_tr,y_tr)\n",
    "pred=clf.predict(X_val)\n",
    "f1_score(y_val,pred)"
   ]
  },
  {
   "cell_type": "code",
   "execution_count": 24,
   "metadata": {},
   "outputs": [
    {
     "name": "stderr",
     "output_type": "stream",
     "text": [
      "/home/saksham/.local/lib/python3.6/site-packages/sklearn/preprocessing/label.py:151: DeprecationWarning: The truth value of an empty array is ambiguous. Returning False, but in future this will result in an error. Use `array.size > 0` to check that an array is not empty.\n",
      "  if diff:\n"
     ]
    }
   ],
   "source": [
    "prediction=clf.predict(X_test)\n",
    "test[\"Prediction\"]=prediction\n",
    "test.to_csv(\"Submission_X_train_5.csv\",index=False)"
   ]
  },
  {
   "cell_type": "code",
   "execution_count": 25,
   "metadata": {},
   "outputs": [
    {
     "name": "stderr",
     "output_type": "stream",
     "text": [
      "/home/saksham/.local/lib/python3.6/site-packages/sklearn/preprocessing/label.py:151: DeprecationWarning: The truth value of an empty array is ambiguous. Returning False, but in future this will result in an error. Use `array.size > 0` to check that an array is not empty.\n",
      "  if diff:\n"
     ]
    },
    {
     "data": {
      "text/plain": [
       "0.7839072824929281"
      ]
     },
     "execution_count": 25,
     "metadata": {},
     "output_type": "execute_result"
    }
   ],
   "source": [
    "#Case 6\n",
    "X_tr, X_val, y_tr, y_val=train_test_split(X_train_6,Y_train_6,test_size=.25,stratify=Y_train_6)\n",
    "clf=XGBClassifier(n_estimators=3000,learning_rate=0.01,max_depth=6)\n",
    "\n",
    "clf.fit(X_tr,y_tr)\n",
    "pred=clf.predict(X_val)\n",
    "f1_score(y_val,pred)"
   ]
  },
  {
   "cell_type": "code",
   "execution_count": 26,
   "metadata": {},
   "outputs": [
    {
     "name": "stderr",
     "output_type": "stream",
     "text": [
      "/home/saksham/.local/lib/python3.6/site-packages/sklearn/preprocessing/label.py:151: DeprecationWarning: The truth value of an empty array is ambiguous. Returning False, but in future this will result in an error. Use `array.size > 0` to check that an array is not empty.\n",
      "  if diff:\n"
     ]
    }
   ],
   "source": [
    "prediction=clf.predict(X_test)\n",
    "test[\"Prediction\"]=prediction\n",
    "test.to_csv(\"Submission_X_train_6.csv\",index=False)"
   ]
  },
  {
   "cell_type": "code",
   "execution_count": 44,
   "metadata": {},
   "outputs": [],
   "source": [
    "from xgboost import plot_importance"
   ]
  },
  {
   "cell_type": "code",
   "execution_count": 52,
   "metadata": {},
   "outputs": [
    {
     "data": {
      "text/plain": [
       "Index(['Region', 'Region_Code', 'Store_Format', 'Sales_Per_Day',\n",
       "       'Store_Size_Sq_Ft', 'Total_Revenue', 'Age_of store', 'Nationality',\n",
       "       'Income_Range', 'Job_Type', 'Marital_Status', 'Gender', 'State',\n",
       "       'Language', 'Loyalty_Status', 'Age', 'Points'],\n",
       "      dtype='object')"
      ]
     },
     "execution_count": 52,
     "metadata": {},
     "output_type": "execute_result"
    }
   ],
   "source": [
    "X_train_1.columns"
   ]
  },
  {
   "cell_type": "code",
   "execution_count": 51,
   "metadata": {},
   "outputs": [
    {
     "data": {
      "text/plain": [
       "array([0.04572596, 0.01176134, 0.00433511, 0.0586182 , 0.04084802,\n",
       "       0.        , 0.02618405, 0.14912017, 0.00687586, 0.00750162,\n",
       "       0.00794644, 0.03059455, 0.13431294, 0.03005926, 0.01920264,\n",
       "       0.16346748, 0.26344636], dtype=float32)"
      ]
     },
     "execution_count": 51,
     "metadata": {},
     "output_type": "execute_result"
    }
   ],
   "source": [
    "clf.feature_importances_"
   ]
  },
  {
   "cell_type": "code",
   "execution_count": 50,
   "metadata": {},
   "outputs": [
    {
     "data": {
      "text/plain": [
       "{'Age': 21682,\n",
       " 'Points': 34943,\n",
       " 'Marital_Status': 1054,\n",
       " 'Store_Size_Sq_Ft': 5418,\n",
       " 'Income_Range': 912,\n",
       " 'Sales_Per_Day': 7775,\n",
       " 'Region': 6065,\n",
       " 'State': 17815,\n",
       " 'Job_Type': 995,\n",
       " 'Language': 3987,\n",
       " 'Store_Format': 575,\n",
       " 'Nationality': 19779,\n",
       " 'Age_of store': 3473,\n",
       " 'Region_Code': 1560,\n",
       " 'Loyalty_Status': 2547,\n",
       " 'Gender': 4058}"
      ]
     },
     "execution_count": 50,
     "metadata": {},
     "output_type": "execute_result"
    }
   ],
   "source": [
    "clf.get_booster().get_fscore()"
   ]
  },
  {
   "cell_type": "code",
   "execution_count": 45,
   "metadata": {},
   "outputs": [
    {
     "data": {
      "text/plain": [
       "<matplotlib.axes._subplots.AxesSubplot at 0x7f2a9a1ed7b8>"
      ]
     },
     "execution_count": 45,
     "metadata": {},
     "output_type": "execute_result"
    },
    {
     "data": {
      "image/png": "[encoded data removed]",
      "text/plain": [
       "<Figure size 432x288 with 1 Axes>"
      ]
     },
     "metadata": {},
     "output_type": "display_data"
    }
   ],
   "source": [
    "plot_importance(clf,)"
   ]
  },
  {
   "cell_type": "code",
   "execution_count": 20,
   "metadata": {},
   "outputs": [],
   "source": [
    "def Kfold_split(clf,X,y,X_test,n=5):\n",
    "    kf=StratifiedKFold(n_splits=n)\n",
    "    accuarcy=[]\n",
    "    prediction=np.zeros(len(X_test))\n",
    "    for tr_indices,tt_indices in kf.split(X,y):\n",
    "        X_train,X_val=X.loc[tr_indices],X.loc[tt_indices]\n",
    "        y_train,y_val=y.loc[tr_indices],y.loc[tt_indices]\n",
    "        y_train.reset_index(drop=True,inplace=True)\n",
    "        y_val.reset_index(drop=True,inplace=True)\n",
    "        #print(y_train)\n",
    "        clf.fit(X_train,y_train)\n",
    "        pred=clf.predict(X_val)\n",
    "        prediction+=clf.predict(X_test)\n",
    "        \n",
    "        #print(a)\n",
    "        s=f1_score(y_val,pred)\n",
    "        accuarcy.append(s)\n",
    "    print(accuarcy)\n",
    "    acc=sum(accuarcy)/len(accuarcy)\n",
    "    print(\"Accuarcy is {}\".format(acc))\n",
    "    prediction=[1 if i>2 else 0 for i in prediction  ]##This depends on n_folds\n",
    "    return (prediction,acc)\n",
    "    \n",
    "    "
   ]
  },
  {
   "cell_type": "code",
   "execution_count": null,
   "metadata": {},
   "outputs": [],
   "source": []
  },
  {
   "cell_type": "code",
   "execution_count": 27,
   "metadata": {},
   "outputs": [],
   "source": [
    "sub1=pd.read_csv(\"Submission_X_train_1.csv\")\n",
    "sub2=pd.read_csv(\"Submission_X_train_2.csv\")\n",
    "sub3=pd.read_csv(\"Submission_X_train_3.csv\")\n",
    "sub4=pd.read_csv(\"Submission_X_train_4.csv\")\n",
    "sub5=pd.read_csv(\"Submission_X_train_5.csv\")\n",
    "sub6=pd.read_csv(\"Submission_X_train_6.csv\")\n"
   ]
  },
  {
   "cell_type": "code",
   "execution_count": 30,
   "metadata": {},
   "outputs": [],
   "source": [
    "A=sub1[\"Prediction\"]+sub2[\"Prediction\"]+sub3[\"Prediction\"]+sub4[\"Prediction\"]+sub5[\"Prediction\"]"
   ]
  },
  {
   "cell_type": "code",
   "execution_count": 31,
   "metadata": {},
   "outputs": [],
   "source": [
    "B=[1 if i>2 else 0 for i in A]\n"
   ]
  },
  {
   "cell_type": "code",
   "execution_count": 32,
   "metadata": {},
   "outputs": [
    {
     "data": {
      "text/plain": [
       "(array([0, 1]), array([302794,  97206]))"
      ]
     },
     "execution_count": 32,
     "metadata": {},
     "output_type": "execute_result"
    }
   ],
   "source": [
    "np.unique(B,return_counts=True)"
   ]
  },
  {
   "cell_type": "code",
   "execution_count": 36,
   "metadata": {},
   "outputs": [],
   "source": [
    "test[\"Prediction\"]=B\n",
    "test.to_csv(\"submission_ensemble.csv\",index=False)"
   ]
  },
  {
   "cell_type": "code",
   "execution_count": 37,
   "metadata": {},
   "outputs": [
    {
     "data": {
      "text/html": [
       "<div>\n",
       "<style scoped>\n",
       "    .dataframe tbody tr th:only-of-type {\n",
       "        vertical-align: middle;\n",
       "    }\n",
       "\n",
       "    .dataframe tbody tr th {\n",
       "        vertical-align: top;\n",
       "    }\n",
       "\n",
       "    .dataframe thead th {\n",
       "        text-align: right;\n",
       "    }\n",
       "</style>\n",
       "<table border=\"1\" class=\"dataframe\">\n",
       "  <thead>\n",
       "    <tr style=\"text-align: right;\">\n",
       "      <th></th>\n",
       "      <th>Customer_ID</th>\n",
       "      <th>Store_Code</th>\n",
       "      <th>Prediction</th>\n",
       "    </tr>\n",
       "  </thead>\n",
       "  <tbody>\n",
       "    <tr>\n",
       "      <th>0</th>\n",
       "      <td>1800000006365760</td>\n",
       "      <td>60298</td>\n",
       "      <td>1</td>\n",
       "    </tr>\n",
       "    <tr>\n",
       "      <th>1</th>\n",
       "      <td>1800000006365760</td>\n",
       "      <td>60299</td>\n",
       "      <td>1</td>\n",
       "    </tr>\n",
       "    <tr>\n",
       "      <th>2</th>\n",
       "      <td>1800000006365760</td>\n",
       "      <td>60300</td>\n",
       "      <td>1</td>\n",
       "    </tr>\n",
       "    <tr>\n",
       "      <th>3</th>\n",
       "      <td>1800000006365760</td>\n",
       "      <td>60301</td>\n",
       "      <td>1</td>\n",
       "    </tr>\n",
       "    <tr>\n",
       "      <th>4</th>\n",
       "      <td>1800000006365820</td>\n",
       "      <td>60298</td>\n",
       "      <td>1</td>\n",
       "    </tr>\n",
       "    <tr>\n",
       "      <th>5</th>\n",
       "      <td>1800000006365820</td>\n",
       "      <td>60299</td>\n",
       "      <td>1</td>\n",
       "    </tr>\n",
       "    <tr>\n",
       "      <th>6</th>\n",
       "      <td>1800000006365820</td>\n",
       "      <td>60300</td>\n",
       "      <td>1</td>\n",
       "    </tr>\n",
       "    <tr>\n",
       "      <th>7</th>\n",
       "      <td>1800000006365820</td>\n",
       "      <td>60301</td>\n",
       "      <td>1</td>\n",
       "    </tr>\n",
       "    <tr>\n",
       "      <th>8</th>\n",
       "      <td>1800000006366060</td>\n",
       "      <td>60298</td>\n",
       "      <td>1</td>\n",
       "    </tr>\n",
       "    <tr>\n",
       "      <th>9</th>\n",
       "      <td>1800000006366060</td>\n",
       "      <td>60299</td>\n",
       "      <td>1</td>\n",
       "    </tr>\n",
       "    <tr>\n",
       "      <th>10</th>\n",
       "      <td>1800000006366060</td>\n",
       "      <td>60300</td>\n",
       "      <td>1</td>\n",
       "    </tr>\n",
       "    <tr>\n",
       "      <th>11</th>\n",
       "      <td>1800000006366060</td>\n",
       "      <td>60301</td>\n",
       "      <td>1</td>\n",
       "    </tr>\n",
       "    <tr>\n",
       "      <th>12</th>\n",
       "      <td>1800000006366230</td>\n",
       "      <td>60298</td>\n",
       "      <td>1</td>\n",
       "    </tr>\n",
       "    <tr>\n",
       "      <th>13</th>\n",
       "      <td>1800000006366230</td>\n",
       "      <td>60299</td>\n",
       "      <td>1</td>\n",
       "    </tr>\n",
       "    <tr>\n",
       "      <th>14</th>\n",
       "      <td>1800000006366230</td>\n",
       "      <td>60300</td>\n",
       "      <td>1</td>\n",
       "    </tr>\n",
       "    <tr>\n",
       "      <th>15</th>\n",
       "      <td>1800000006366230</td>\n",
       "      <td>60301</td>\n",
       "      <td>1</td>\n",
       "    </tr>\n",
       "    <tr>\n",
       "      <th>16</th>\n",
       "      <td>1800000006366570</td>\n",
       "      <td>60298</td>\n",
       "      <td>1</td>\n",
       "    </tr>\n",
       "    <tr>\n",
       "      <th>17</th>\n",
       "      <td>1800000006366570</td>\n",
       "      <td>60299</td>\n",
       "      <td>1</td>\n",
       "    </tr>\n",
       "    <tr>\n",
       "      <th>18</th>\n",
       "      <td>1800000006366570</td>\n",
       "      <td>60300</td>\n",
       "      <td>1</td>\n",
       "    </tr>\n",
       "    <tr>\n",
       "      <th>19</th>\n",
       "      <td>1800000006366570</td>\n",
       "      <td>60301</td>\n",
       "      <td>1</td>\n",
       "    </tr>\n",
       "    <tr>\n",
       "      <th>20</th>\n",
       "      <td>1800000006366750</td>\n",
       "      <td>60298</td>\n",
       "      <td>1</td>\n",
       "    </tr>\n",
       "    <tr>\n",
       "      <th>21</th>\n",
       "      <td>1800000006366750</td>\n",
       "      <td>60299</td>\n",
       "      <td>1</td>\n",
       "    </tr>\n",
       "    <tr>\n",
       "      <th>22</th>\n",
       "      <td>1800000006366750</td>\n",
       "      <td>60300</td>\n",
       "      <td>1</td>\n",
       "    </tr>\n",
       "    <tr>\n",
       "      <th>23</th>\n",
       "      <td>1800000006366750</td>\n",
       "      <td>60301</td>\n",
       "      <td>1</td>\n",
       "    </tr>\n",
       "    <tr>\n",
       "      <th>24</th>\n",
       "      <td>1800000006366910</td>\n",
       "      <td>60298</td>\n",
       "      <td>1</td>\n",
       "    </tr>\n",
       "    <tr>\n",
       "      <th>25</th>\n",
       "      <td>1800000006366910</td>\n",
       "      <td>60299</td>\n",
       "      <td>1</td>\n",
       "    </tr>\n",
       "    <tr>\n",
       "      <th>26</th>\n",
       "      <td>1800000006366910</td>\n",
       "      <td>60300</td>\n",
       "      <td>1</td>\n",
       "    </tr>\n",
       "    <tr>\n",
       "      <th>27</th>\n",
       "      <td>1800000006366910</td>\n",
       "      <td>60301</td>\n",
       "      <td>1</td>\n",
       "    </tr>\n",
       "    <tr>\n",
       "      <th>28</th>\n",
       "      <td>1800000006366930</td>\n",
       "      <td>60298</td>\n",
       "      <td>1</td>\n",
       "    </tr>\n",
       "    <tr>\n",
       "      <th>29</th>\n",
       "      <td>1800000006366930</td>\n",
       "      <td>60299</td>\n",
       "      <td>1</td>\n",
       "    </tr>\n",
       "    <tr>\n",
       "      <th>...</th>\n",
       "      <td>...</td>\n",
       "      <td>...</td>\n",
       "      <td>...</td>\n",
       "    </tr>\n",
       "    <tr>\n",
       "      <th>399970</th>\n",
       "      <td>1800000279930560</td>\n",
       "      <td>60300</td>\n",
       "      <td>1</td>\n",
       "    </tr>\n",
       "    <tr>\n",
       "      <th>399971</th>\n",
       "      <td>1800000279930560</td>\n",
       "      <td>60301</td>\n",
       "      <td>1</td>\n",
       "    </tr>\n",
       "    <tr>\n",
       "      <th>399972</th>\n",
       "      <td>1800000279933740</td>\n",
       "      <td>60298</td>\n",
       "      <td>1</td>\n",
       "    </tr>\n",
       "    <tr>\n",
       "      <th>399973</th>\n",
       "      <td>1800000279933740</td>\n",
       "      <td>60299</td>\n",
       "      <td>0</td>\n",
       "    </tr>\n",
       "    <tr>\n",
       "      <th>399974</th>\n",
       "      <td>1800000279933740</td>\n",
       "      <td>60300</td>\n",
       "      <td>1</td>\n",
       "    </tr>\n",
       "    <tr>\n",
       "      <th>399975</th>\n",
       "      <td>1800000279933740</td>\n",
       "      <td>60301</td>\n",
       "      <td>1</td>\n",
       "    </tr>\n",
       "    <tr>\n",
       "      <th>399976</th>\n",
       "      <td>1800000279934490</td>\n",
       "      <td>60298</td>\n",
       "      <td>1</td>\n",
       "    </tr>\n",
       "    <tr>\n",
       "      <th>399977</th>\n",
       "      <td>1800000279934490</td>\n",
       "      <td>60299</td>\n",
       "      <td>1</td>\n",
       "    </tr>\n",
       "    <tr>\n",
       "      <th>399978</th>\n",
       "      <td>1800000279934490</td>\n",
       "      <td>60300</td>\n",
       "      <td>1</td>\n",
       "    </tr>\n",
       "    <tr>\n",
       "      <th>399979</th>\n",
       "      <td>1800000279934490</td>\n",
       "      <td>60301</td>\n",
       "      <td>1</td>\n",
       "    </tr>\n",
       "    <tr>\n",
       "      <th>399980</th>\n",
       "      <td>1800000284709040</td>\n",
       "      <td>60298</td>\n",
       "      <td>1</td>\n",
       "    </tr>\n",
       "    <tr>\n",
       "      <th>399981</th>\n",
       "      <td>1800000284709040</td>\n",
       "      <td>60299</td>\n",
       "      <td>1</td>\n",
       "    </tr>\n",
       "    <tr>\n",
       "      <th>399982</th>\n",
       "      <td>1800000284709040</td>\n",
       "      <td>60300</td>\n",
       "      <td>1</td>\n",
       "    </tr>\n",
       "    <tr>\n",
       "      <th>399983</th>\n",
       "      <td>1800000284709040</td>\n",
       "      <td>60301</td>\n",
       "      <td>1</td>\n",
       "    </tr>\n",
       "    <tr>\n",
       "      <th>399984</th>\n",
       "      <td>1800000284710170</td>\n",
       "      <td>60298</td>\n",
       "      <td>1</td>\n",
       "    </tr>\n",
       "    <tr>\n",
       "      <th>399985</th>\n",
       "      <td>1800000284710170</td>\n",
       "      <td>60299</td>\n",
       "      <td>1</td>\n",
       "    </tr>\n",
       "    <tr>\n",
       "      <th>399986</th>\n",
       "      <td>1800000284710170</td>\n",
       "      <td>60300</td>\n",
       "      <td>1</td>\n",
       "    </tr>\n",
       "    <tr>\n",
       "      <th>399987</th>\n",
       "      <td>1800000284710170</td>\n",
       "      <td>60301</td>\n",
       "      <td>1</td>\n",
       "    </tr>\n",
       "    <tr>\n",
       "      <th>399988</th>\n",
       "      <td>1800000284710670</td>\n",
       "      <td>60298</td>\n",
       "      <td>1</td>\n",
       "    </tr>\n",
       "    <tr>\n",
       "      <th>399989</th>\n",
       "      <td>1800000284710670</td>\n",
       "      <td>60299</td>\n",
       "      <td>0</td>\n",
       "    </tr>\n",
       "    <tr>\n",
       "      <th>399990</th>\n",
       "      <td>1800000284710670</td>\n",
       "      <td>60300</td>\n",
       "      <td>0</td>\n",
       "    </tr>\n",
       "    <tr>\n",
       "      <th>399991</th>\n",
       "      <td>1800000284710670</td>\n",
       "      <td>60301</td>\n",
       "      <td>0</td>\n",
       "    </tr>\n",
       "    <tr>\n",
       "      <th>399992</th>\n",
       "      <td>1800000284712570</td>\n",
       "      <td>60298</td>\n",
       "      <td>0</td>\n",
       "    </tr>\n",
       "    <tr>\n",
       "      <th>399993</th>\n",
       "      <td>1800000284712570</td>\n",
       "      <td>60299</td>\n",
       "      <td>0</td>\n",
       "    </tr>\n",
       "    <tr>\n",
       "      <th>399994</th>\n",
       "      <td>1800000284712570</td>\n",
       "      <td>60300</td>\n",
       "      <td>0</td>\n",
       "    </tr>\n",
       "    <tr>\n",
       "      <th>399995</th>\n",
       "      <td>1800000284712570</td>\n",
       "      <td>60301</td>\n",
       "      <td>0</td>\n",
       "    </tr>\n",
       "    <tr>\n",
       "      <th>399996</th>\n",
       "      <td>1800000288858110</td>\n",
       "      <td>60298</td>\n",
       "      <td>0</td>\n",
       "    </tr>\n",
       "    <tr>\n",
       "      <th>399997</th>\n",
       "      <td>1800000288858110</td>\n",
       "      <td>60299</td>\n",
       "      <td>0</td>\n",
       "    </tr>\n",
       "    <tr>\n",
       "      <th>399998</th>\n",
       "      <td>1800000288858110</td>\n",
       "      <td>60300</td>\n",
       "      <td>0</td>\n",
       "    </tr>\n",
       "    <tr>\n",
       "      <th>399999</th>\n",
       "      <td>1800000288858110</td>\n",
       "      <td>60301</td>\n",
       "      <td>0</td>\n",
       "    </tr>\n",
       "  </tbody>\n",
       "</table>\n",
       "<p>400000 rows × 3 columns</p>\n",
       "</div>"
      ],
      "text/plain": [
       "             Customer_ID  Store_Code  Prediction\n",
       "0       1800000006365760       60298           1\n",
       "1       1800000006365760       60299           1\n",
       "2       1800000006365760       60300           1\n",
       "3       1800000006365760       60301           1\n",
       "4       1800000006365820       60298           1\n",
       "5       1800000006365820       60299           1\n",
       "6       1800000006365820       60300           1\n",
       "7       1800000006365820       60301           1\n",
       "8       1800000006366060       60298           1\n",
       "9       1800000006366060       60299           1\n",
       "10      1800000006366060       60300           1\n",
       "11      1800000006366060       60301           1\n",
       "12      1800000006366230       60298           1\n",
       "13      1800000006366230       60299           1\n",
       "14      1800000006366230       60300           1\n",
       "15      1800000006366230       60301           1\n",
       "16      1800000006366570       60298           1\n",
       "17      1800000006366570       60299           1\n",
       "18      1800000006366570       60300           1\n",
       "19      1800000006366570       60301           1\n",
       "20      1800000006366750       60298           1\n",
       "21      1800000006366750       60299           1\n",
       "22      1800000006366750       60300           1\n",
       "23      1800000006366750       60301           1\n",
       "24      1800000006366910       60298           1\n",
       "25      1800000006366910       60299           1\n",
       "26      1800000006366910       60300           1\n",
       "27      1800000006366910       60301           1\n",
       "28      1800000006366930       60298           1\n",
       "29      1800000006366930       60299           1\n",
       "...                  ...         ...         ...\n",
       "399970  1800000279930560       60300           1\n",
       "399971  1800000279930560       60301           1\n",
       "399972  1800000279933740       60298           1\n",
       "399973  1800000279933740       60299           0\n",
       "399974  1800000279933740       60300           1\n",
       "399975  1800000279933740       60301           1\n",
       "399976  1800000279934490       60298           1\n",
       "399977  1800000279934490       60299           1\n",
       "399978  1800000279934490       60300           1\n",
       "399979  1800000279934490       60301           1\n",
       "399980  1800000284709040       60298           1\n",
       "399981  1800000284709040       60299           1\n",
       "399982  1800000284709040       60300           1\n",
       "399983  1800000284709040       60301           1\n",
       "399984  1800000284710170       60298           1\n",
       "399985  1800000284710170       60299           1\n",
       "399986  1800000284710170       60300           1\n",
       "399987  1800000284710170       60301           1\n",
       "399988  1800000284710670       60298           1\n",
       "399989  1800000284710670       60299           0\n",
       "399990  1800000284710670       60300           0\n",
       "399991  1800000284710670       60301           0\n",
       "399992  1800000284712570       60298           0\n",
       "399993  1800000284712570       60299           0\n",
       "399994  1800000284712570       60300           0\n",
       "399995  1800000284712570       60301           0\n",
       "399996  1800000288858110       60298           0\n",
       "399997  1800000288858110       60299           0\n",
       "399998  1800000288858110       60300           0\n",
       "399999  1800000288858110       60301           0\n",
       "\n",
       "[400000 rows x 3 columns]"
      ]
     },
     "execution_count": 37,
     "metadata": {},
     "output_type": "execute_result"
    }
   ],
   "source": [
    "test"
   ]
  },
  {
   "cell_type": "code",
   "execution_count": 41,
   "metadata": {},
   "outputs": [],
   "source": [
    "X_train=X_train_1.copy()\n",
    "X_tt=X_test.copy()\n",
    "X_train.drop(\"Age\",axis=1,inplace=True)\n",
    "X_tt.drop(\"Age\",axis=1,inplace=True)\n",
    "\n"
   ]
  },
  {
   "cell_type": "code",
   "execution_count": 43,
   "metadata": {},
   "outputs": [],
   "source": [
    "X_tr, X_val, y_tr, y_val=train_test_split(X_train,Y_train_1,test_size=.25,stratify=Y_train_1)"
   ]
  },
  {
   "cell_type": "code",
   "execution_count": null,
   "metadata": {},
   "outputs": [],
   "source": []
  }
 ],
 "metadata": {
  "kernelspec": {
   "display_name": "Python 3",
   "language": "python",
   "name": "python3"
  },
  "language_info": {
   "codemirror_mode": {
    "name": "ipython",
    "version": 3
   },
   "file_extension": ".py",
   "mimetype": "text/x-python",
   "name": "python",
   "nbconvert_exporter": "python",
   "pygments_lexer": "ipython3",
   "version": "3.6.5"
  }
 },
 "nbformat": 4,
 "nbformat_minor": 2
}
