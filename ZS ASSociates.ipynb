{
 "cells": [
  {
   "cell_type": "code",
   "execution_count": 1,
   "metadata": {},
   "outputs": [],
   "source": [
    "import numpy as np \n",
    "import pandas as pd\n",
    "import matplotlib.pyplot as plt\n",
    "from sklearn.preprocessing import LabelEncoder\n",
    "%matplotlib inline\n",
    "from sklearn.model_selection import train_test_split\n",
    "from sklearn.model_selection import StratifiedShuffleSplit\n",
    "import seaborn as sns"
   ]
  },
  {
   "cell_type": "code",
   "execution_count": 2,
   "metadata": {},
   "outputs": [
    {
     "data": {
      "text/html": [
       "<div>\n",
       "<style scoped>\n",
       "    .dataframe tbody tr th:only-of-type {\n",
       "        vertical-align: middle;\n",
       "    }\n",
       "\n",
       "    .dataframe tbody tr th {\n",
       "        vertical-align: top;\n",
       "    }\n",
       "\n",
       "    .dataframe thead th {\n",
       "        text-align: right;\n",
       "    }\n",
       "</style>\n",
       "<table border=\"1\" class=\"dataframe\">\n",
       "  <thead>\n",
       "    <tr style=\"text-align: right;\">\n",
       "      <th></th>\n",
       "      <th>S_No</th>\n",
       "      <th>Year</th>\n",
       "      <th>Month</th>\n",
       "      <th>Week</th>\n",
       "      <th>Merchant_ID</th>\n",
       "      <th>Product_ID</th>\n",
       "      <th>Country</th>\n",
       "      <th>Sales</th>\n",
       "    </tr>\n",
       "  </thead>\n",
       "  <tbody>\n",
       "    <tr>\n",
       "      <th>0</th>\n",
       "      <td>1</td>\n",
       "      <td>2013</td>\n",
       "      <td>1</td>\n",
       "      <td>1</td>\n",
       "      <td>ar00001</td>\n",
       "      <td>1</td>\n",
       "      <td>Argentina</td>\n",
       "      <td>157500.0</td>\n",
       "    </tr>\n",
       "    <tr>\n",
       "      <th>1</th>\n",
       "      <td>2</td>\n",
       "      <td>2013</td>\n",
       "      <td>1</td>\n",
       "      <td>1</td>\n",
       "      <td>ar00003</td>\n",
       "      <td>1</td>\n",
       "      <td>Argentina</td>\n",
       "      <td>39375.0</td>\n",
       "    </tr>\n",
       "    <tr>\n",
       "      <th>2</th>\n",
       "      <td>3</td>\n",
       "      <td>2013</td>\n",
       "      <td>1</td>\n",
       "      <td>1</td>\n",
       "      <td>ar00004</td>\n",
       "      <td>1</td>\n",
       "      <td>Argentina</td>\n",
       "      <td>15750.0</td>\n",
       "    </tr>\n",
       "    <tr>\n",
       "      <th>3</th>\n",
       "      <td>4</td>\n",
       "      <td>2013</td>\n",
       "      <td>1</td>\n",
       "      <td>1</td>\n",
       "      <td>ar00007</td>\n",
       "      <td>1</td>\n",
       "      <td>Argentina</td>\n",
       "      <td>47250.0</td>\n",
       "    </tr>\n",
       "    <tr>\n",
       "      <th>4</th>\n",
       "      <td>5</td>\n",
       "      <td>2013</td>\n",
       "      <td>1</td>\n",
       "      <td>1</td>\n",
       "      <td>ar00008</td>\n",
       "      <td>1</td>\n",
       "      <td>Argentina</td>\n",
       "      <td>283500.0</td>\n",
       "    </tr>\n",
       "  </tbody>\n",
       "</table>\n",
       "</div>"
      ],
      "text/plain": [
       "   S_No  Year  Month  Week Merchant_ID  Product_ID    Country     Sales\n",
       "0     1  2013      1     1     ar00001           1  Argentina  157500.0\n",
       "1     2  2013      1     1     ar00003           1  Argentina   39375.0\n",
       "2     3  2013      1     1     ar00004           1  Argentina   15750.0\n",
       "3     4  2013      1     1     ar00007           1  Argentina   47250.0\n",
       "4     5  2013      1     1     ar00008           1  Argentina  283500.0"
      ]
     },
     "execution_count": 2,
     "metadata": {},
     "output_type": "execute_result"
    }
   ],
   "source": [
    "train=pd.read_csv(\"Hackearth/9555b456-8-dataset/dataset/yds_train2018.csv\")\n",
    "train.head()"
   ]
  },
  {
   "cell_type": "code",
   "execution_count": 3,
   "metadata": {},
   "outputs": [
    {
     "data": {
      "text/html": [
       "<div>\n",
       "<style scoped>\n",
       "    .dataframe tbody tr th:only-of-type {\n",
       "        vertical-align: middle;\n",
       "    }\n",
       "\n",
       "    .dataframe tbody tr th {\n",
       "        vertical-align: top;\n",
       "    }\n",
       "\n",
       "    .dataframe thead th {\n",
       "        text-align: right;\n",
       "    }\n",
       "</style>\n",
       "<table border=\"1\" class=\"dataframe\">\n",
       "  <thead>\n",
       "    <tr style=\"text-align: right;\">\n",
       "      <th></th>\n",
       "      <th>S_No</th>\n",
       "      <th>Year</th>\n",
       "      <th>Month</th>\n",
       "      <th>Product_ID</th>\n",
       "      <th>Country</th>\n",
       "      <th>Sales</th>\n",
       "    </tr>\n",
       "  </thead>\n",
       "  <tbody>\n",
       "    <tr>\n",
       "      <th>0</th>\n",
       "      <td>79073</td>\n",
       "      <td>2016</td>\n",
       "      <td>4</td>\n",
       "      <td>1</td>\n",
       "      <td>Argentina</td>\n",
       "      <td>NaN</td>\n",
       "    </tr>\n",
       "    <tr>\n",
       "      <th>1</th>\n",
       "      <td>79074</td>\n",
       "      <td>2016</td>\n",
       "      <td>5</td>\n",
       "      <td>1</td>\n",
       "      <td>Argentina</td>\n",
       "      <td>NaN</td>\n",
       "    </tr>\n",
       "    <tr>\n",
       "      <th>2</th>\n",
       "      <td>79075</td>\n",
       "      <td>2016</td>\n",
       "      <td>6</td>\n",
       "      <td>1</td>\n",
       "      <td>Argentina</td>\n",
       "      <td>NaN</td>\n",
       "    </tr>\n",
       "    <tr>\n",
       "      <th>3</th>\n",
       "      <td>79076</td>\n",
       "      <td>2016</td>\n",
       "      <td>7</td>\n",
       "      <td>1</td>\n",
       "      <td>Argentina</td>\n",
       "      <td>NaN</td>\n",
       "    </tr>\n",
       "    <tr>\n",
       "      <th>4</th>\n",
       "      <td>79077</td>\n",
       "      <td>2016</td>\n",
       "      <td>8</td>\n",
       "      <td>1</td>\n",
       "      <td>Argentina</td>\n",
       "      <td>NaN</td>\n",
       "    </tr>\n",
       "  </tbody>\n",
       "</table>\n",
       "</div>"
      ],
      "text/plain": [
       "    S_No  Year  Month  Product_ID    Country  Sales\n",
       "0  79073  2016      4           1  Argentina    NaN\n",
       "1  79074  2016      5           1  Argentina    NaN\n",
       "2  79075  2016      6           1  Argentina    NaN\n",
       "3  79076  2016      7           1  Argentina    NaN\n",
       "4  79077  2016      8           1  Argentina    NaN"
      ]
     },
     "execution_count": 3,
     "metadata": {},
     "output_type": "execute_result"
    }
   ],
   "source": [
    "test=pd.read_csv(\"Hackearth/9555b456-8-dataset/dataset/yds_test2018.csv\")\n",
    "test.head()"
   ]
  },
  {
   "cell_type": "code",
   "execution_count": 4,
   "metadata": {},
   "outputs": [
    {
     "data": {
      "text/html": [
       "<div>\n",
       "<style scoped>\n",
       "    .dataframe tbody tr th:only-of-type {\n",
       "        vertical-align: middle;\n",
       "    }\n",
       "\n",
       "    .dataframe tbody tr th {\n",
       "        vertical-align: top;\n",
       "    }\n",
       "\n",
       "    .dataframe thead th {\n",
       "        text-align: right;\n",
       "    }\n",
       "</style>\n",
       "<table border=\"1\" class=\"dataframe\">\n",
       "  <thead>\n",
       "    <tr style=\"text-align: right;\">\n",
       "      <th></th>\n",
       "      <th>Date</th>\n",
       "      <th>Country</th>\n",
       "      <th>Holiday</th>\n",
       "    </tr>\n",
       "  </thead>\n",
       "  <tbody>\n",
       "    <tr>\n",
       "      <th>0</th>\n",
       "      <td>2014, 1, 1</td>\n",
       "      <td>Denmark</td>\n",
       "      <td>Nytårsdag</td>\n",
       "    </tr>\n",
       "    <tr>\n",
       "      <th>1</th>\n",
       "      <td>2014, 4, 17</td>\n",
       "      <td>Denmark</td>\n",
       "      <td>Skærtorsdag</td>\n",
       "    </tr>\n",
       "    <tr>\n",
       "      <th>2</th>\n",
       "      <td>2014, 4, 18</td>\n",
       "      <td>Denmark</td>\n",
       "      <td>Langfredag</td>\n",
       "    </tr>\n",
       "    <tr>\n",
       "      <th>3</th>\n",
       "      <td>2014, 4, 20</td>\n",
       "      <td>Denmark</td>\n",
       "      <td>Påskedag</td>\n",
       "    </tr>\n",
       "    <tr>\n",
       "      <th>4</th>\n",
       "      <td>2014, 4, 21</td>\n",
       "      <td>Denmark</td>\n",
       "      <td>Anden påskedag</td>\n",
       "    </tr>\n",
       "  </tbody>\n",
       "</table>\n",
       "</div>"
      ],
      "text/plain": [
       "          Date  Country          Holiday\n",
       "0   2014, 1, 1  Denmark        Nytårsdag\n",
       "1  2014, 4, 17  Denmark      Skærtorsdag\n",
       "2  2014, 4, 18  Denmark       Langfredag\n",
       "3  2014, 4, 20  Denmark         Påskedag\n",
       "4  2014, 4, 21  Denmark   Anden påskedag"
      ]
     },
     "execution_count": 4,
     "metadata": {},
     "output_type": "execute_result"
    }
   ],
   "source": [
    "holiday=pd.read_excel(\"Hackearth/9555b456-8-dataset/dataset/holidays.xlsx\")\n",
    "holiday.head()"
   ]
  },
  {
   "cell_type": "code",
   "execution_count": 5,
   "metadata": {},
   "outputs": [
    {
     "data": {
      "text/html": [
       "<div>\n",
       "<style scoped>\n",
       "    .dataframe tbody tr th:only-of-type {\n",
       "        vertical-align: middle;\n",
       "    }\n",
       "\n",
       "    .dataframe tbody tr th {\n",
       "        vertical-align: top;\n",
       "    }\n",
       "\n",
       "    .dataframe thead th {\n",
       "        text-align: right;\n",
       "    }\n",
       "</style>\n",
       "<table border=\"1\" class=\"dataframe\">\n",
       "  <thead>\n",
       "    <tr style=\"text-align: right;\">\n",
       "      <th></th>\n",
       "      <th>Year</th>\n",
       "      <th>Month</th>\n",
       "      <th>Country</th>\n",
       "      <th>Product_ID</th>\n",
       "      <th>Expense_Price</th>\n",
       "    </tr>\n",
       "  </thead>\n",
       "  <tbody>\n",
       "    <tr>\n",
       "      <th>0</th>\n",
       "      <td>2013</td>\n",
       "      <td>1</td>\n",
       "      <td>Argentina</td>\n",
       "      <td>1</td>\n",
       "      <td>14749.307</td>\n",
       "    </tr>\n",
       "    <tr>\n",
       "      <th>1</th>\n",
       "      <td>2013</td>\n",
       "      <td>1</td>\n",
       "      <td>Argentina</td>\n",
       "      <td>2</td>\n",
       "      <td>1329.374</td>\n",
       "    </tr>\n",
       "    <tr>\n",
       "      <th>2</th>\n",
       "      <td>2013</td>\n",
       "      <td>1</td>\n",
       "      <td>Belgium</td>\n",
       "      <td>2</td>\n",
       "      <td>249.590</td>\n",
       "    </tr>\n",
       "    <tr>\n",
       "      <th>3</th>\n",
       "      <td>2013</td>\n",
       "      <td>1</td>\n",
       "      <td>Columbia</td>\n",
       "      <td>1</td>\n",
       "      <td>1893.122</td>\n",
       "    </tr>\n",
       "    <tr>\n",
       "      <th>4</th>\n",
       "      <td>2013</td>\n",
       "      <td>1</td>\n",
       "      <td>Columbia</td>\n",
       "      <td>2</td>\n",
       "      <td>1436.726</td>\n",
       "    </tr>\n",
       "  </tbody>\n",
       "</table>\n",
       "</div>"
      ],
      "text/plain": [
       "   Year  Month    Country  Product_ID  Expense_Price\n",
       "0  2013      1  Argentina           1      14749.307\n",
       "1  2013      1  Argentina           2       1329.374\n",
       "2  2013      1    Belgium           2        249.590\n",
       "3  2013      1   Columbia           1       1893.122\n",
       "4  2013      1   Columbia           2       1436.726"
      ]
     },
     "execution_count": 5,
     "metadata": {},
     "output_type": "execute_result"
    }
   ],
   "source": [
    "expense=pd.read_csv(\"Hackearth/9555b456-8-dataset/dataset/promotional_expense.csv\")\n",
    "expense.rename(columns={\"Product_Type\":\"Product_ID\"},inplace=True)\n",
    "expense.head()"
   ]
  },
  {
   "cell_type": "code",
   "execution_count": 324,
   "metadata": {},
   "outputs": [],
   "source": [
    "missing=expense.isnull().sum(axis=0)/train.shape[0]\n",
    "data_types=train.dtypes"
   ]
  },
  {
   "cell_type": "code",
   "execution_count": 6,
   "metadata": {},
   "outputs": [],
   "source": [
    "train.drop([\"Merchant_ID\",'Week'],axis=1,inplace=True)"
   ]
  },
  {
   "cell_type": "code",
   "execution_count": 7,
   "metadata": {},
   "outputs": [],
   "source": [
    "train=train.groupby(['Year', 'Month', 'Product_ID', 'Country'],as_index=False).sum()"
   ]
  },
  {
   "cell_type": "code",
   "execution_count": 8,
   "metadata": {},
   "outputs": [],
   "source": [
    "train_test=pd.concat([train,test])"
   ]
  },
  {
   "cell_type": "code",
   "execution_count": 9,
   "metadata": {},
   "outputs": [],
   "source": [
    "holiday['count']=[1]*holiday.shape[0]\n",
    "holiday[\"Month\"]=holiday[\"Date\"].apply(lambda x:x.split(\",\")[1]).astype('int')\n",
    "holiday[\"Year\"]=holiday[\"Date\"].apply(lambda x:x.split(\",\")[0]).astype(\"int\")\n",
    "holiday.drop([\"Date\",\"Holiday\"],axis=1,inplace=True)\n",
    "hol_agg=holiday.groupby(['Country','Month', 'Year'],as_index=False).sum()"
   ]
  },
  {
   "cell_type": "code",
   "execution_count": 10,
   "metadata": {},
   "outputs": [
    {
     "data": {
      "text/plain": [
       "Index(['Country', 'Month', 'Year', 'count'], dtype='object')"
      ]
     },
     "execution_count": 10,
     "metadata": {},
     "output_type": "execute_result"
    }
   ],
   "source": [
    "hol_agg.columns"
   ]
  },
  {
   "cell_type": "code",
   "execution_count": 11,
   "metadata": {},
   "outputs": [],
   "source": [
    "train_test=train_test.merge(hol_agg,how=\"left\",on=['Country', 'Month', 'Year'])\n",
    "train_test[\"count\"]=train_test[\"count\"].fillna(0)"
   ]
  },
  {
   "cell_type": "code",
   "execution_count": 12,
   "metadata": {},
   "outputs": [
    {
     "data": {
      "text/plain": [
       "Index(['Country', 'Month', 'Product_ID', 'S_No', 'Sales', 'Year', 'count'], dtype='object')"
      ]
     },
     "execution_count": 12,
     "metadata": {},
     "output_type": "execute_result"
    }
   ],
   "source": [
    "train_test.columns"
   ]
  },
  {
   "cell_type": "code",
   "execution_count": 13,
   "metadata": {},
   "outputs": [],
   "source": [
    "train_test=train_test.merge(expense,how=\"left\",on=['Year', 'Month', 'Country', 'Product_ID'])"
   ]
  },
  {
   "cell_type": "code",
   "execution_count": 14,
   "metadata": {},
   "outputs": [],
   "source": [
    "le=LabelEncoder()\n",
    "train_test[\"Country\"]=le.fit_transform(train_test[\"Country\"])"
   ]
  },
  {
   "cell_type": "code",
   "execution_count": 15,
   "metadata": {},
   "outputs": [],
   "source": [
    "from sklearn.neighbors import KNeighborsRegressor"
   ]
  },
  {
   "cell_type": "code",
   "execution_count": 16,
   "metadata": {},
   "outputs": [],
   "source": [
    "tr_id=train_test[\"Expense_Price\"].notnull()\n",
    "knn_data_train=train_test.loc[tr_id].copy()\n",
    "knn_data_test=train_test.loc[~tr_id].copy()\n",
    "y_tr_knn=knn_data_train[\"Expense_Price\"]\n",
    "knn_data_train.drop([\"Expense_Price\",\"S_No\",\"Sales\"],axis=1,inplace=True)\n",
    "knn_data_test.drop([\"Expense_Price\",\"S_No\",\"Sales\"],axis=1,inplace=True)\n"
   ]
  },
  {
   "cell_type": "code",
   "execution_count": 17,
   "metadata": {},
   "outputs": [
    {
     "data": {
      "text/plain": [
       "KNeighborsRegressor(algorithm='auto', leaf_size=30, metric='minkowski',\n",
       "          metric_params=None, n_jobs=1, n_neighbors=3, p=2,\n",
       "          weights='distance')"
      ]
     },
     "execution_count": 17,
     "metadata": {},
     "output_type": "execute_result"
    }
   ],
   "source": [
    "neigh=KNeighborsRegressor(n_neighbors=3,weights=\"distance\")\n",
    "neigh.fit(knn_data_train,y_tr_knn)"
   ]
  },
  {
   "cell_type": "code",
   "execution_count": 18,
   "metadata": {},
   "outputs": [],
   "source": [
    "pred=neigh.predict(knn_data_test)\n",
    "knn_data_test[\"exp\"]=pred\n",
    "knn_data_train[\"exp\"]=y_tr_knn\n"
   ]
  },
  {
   "cell_type": "code",
   "execution_count": 19,
   "metadata": {},
   "outputs": [],
   "source": [
    "train_test[\"Expense_Price\"]=knn_data_train.append(knn_data_test)[\"exp\"]"
   ]
  },
  {
   "cell_type": "code",
   "execution_count": 20,
   "metadata": {
    "scrolled": true
   },
   "outputs": [
    {
     "data": {
      "text/html": [
       "<div>\n",
       "<style scoped>\n",
       "    .dataframe tbody tr th:only-of-type {\n",
       "        vertical-align: middle;\n",
       "    }\n",
       "\n",
       "    .dataframe tbody tr th {\n",
       "        vertical-align: top;\n",
       "    }\n",
       "\n",
       "    .dataframe thead th {\n",
       "        text-align: right;\n",
       "    }\n",
       "</style>\n",
       "<table border=\"1\" class=\"dataframe\">\n",
       "  <thead>\n",
       "    <tr style=\"text-align: right;\">\n",
       "      <th></th>\n",
       "      <th>Country</th>\n",
       "      <th>Month</th>\n",
       "      <th>Product_ID</th>\n",
       "      <th>S_No</th>\n",
       "      <th>Sales</th>\n",
       "      <th>Year</th>\n",
       "      <th>count</th>\n",
       "      <th>Expense_Price</th>\n",
       "    </tr>\n",
       "  </thead>\n",
       "  <tbody>\n",
       "    <tr>\n",
       "      <th>0</th>\n",
       "      <td>0</td>\n",
       "      <td>1</td>\n",
       "      <td>1</td>\n",
       "      <td>15931</td>\n",
       "      <td>3.434602e+07</td>\n",
       "      <td>2013</td>\n",
       "      <td>1.0</td>\n",
       "      <td>14749.307</td>\n",
       "    </tr>\n",
       "    <tr>\n",
       "      <th>1</th>\n",
       "      <td>2</td>\n",
       "      <td>1</td>\n",
       "      <td>1</td>\n",
       "      <td>6536745</td>\n",
       "      <td>3.947356e+06</td>\n",
       "      <td>2013</td>\n",
       "      <td>2.0</td>\n",
       "      <td>1893.122</td>\n",
       "    </tr>\n",
       "    <tr>\n",
       "      <th>2</th>\n",
       "      <td>0</td>\n",
       "      <td>1</td>\n",
       "      <td>2</td>\n",
       "      <td>364805</td>\n",
       "      <td>2.751851e+06</td>\n",
       "      <td>2013</td>\n",
       "      <td>1.0</td>\n",
       "      <td>1329.374</td>\n",
       "    </tr>\n",
       "    <tr>\n",
       "      <th>3</th>\n",
       "      <td>1</td>\n",
       "      <td>1</td>\n",
       "      <td>2</td>\n",
       "      <td>280368</td>\n",
       "      <td>3.148501e+05</td>\n",
       "      <td>2013</td>\n",
       "      <td>1.0</td>\n",
       "      <td>249.590</td>\n",
       "    </tr>\n",
       "    <tr>\n",
       "      <th>4</th>\n",
       "      <td>2</td>\n",
       "      <td>1</td>\n",
       "      <td>2</td>\n",
       "      <td>11298201</td>\n",
       "      <td>2.885137e+06</td>\n",
       "      <td>2013</td>\n",
       "      <td>2.0</td>\n",
       "      <td>1436.726</td>\n",
       "    </tr>\n",
       "    <tr>\n",
       "      <th>5</th>\n",
       "      <td>3</td>\n",
       "      <td>1</td>\n",
       "      <td>2</td>\n",
       "      <td>15814500</td>\n",
       "      <td>1.018476e+08</td>\n",
       "      <td>2013</td>\n",
       "      <td>1.0</td>\n",
       "      <td>43843.906</td>\n",
       "    </tr>\n",
       "    <tr>\n",
       "      <th>6</th>\n",
       "      <td>4</td>\n",
       "      <td>1</td>\n",
       "      <td>4</td>\n",
       "      <td>3437725</td>\n",
       "      <td>1.669076e+05</td>\n",
       "      <td>2013</td>\n",
       "      <td>1.0</td>\n",
       "      <td>183.482</td>\n",
       "    </tr>\n",
       "    <tr>\n",
       "      <th>7</th>\n",
       "      <td>5</td>\n",
       "      <td>1</td>\n",
       "      <td>4</td>\n",
       "      <td>19351332</td>\n",
       "      <td>1.515342e+07</td>\n",
       "      <td>2013</td>\n",
       "      <td>2.0</td>\n",
       "      <td>750.618</td>\n",
       "    </tr>\n",
       "    <tr>\n",
       "      <th>8</th>\n",
       "      <td>4</td>\n",
       "      <td>1</td>\n",
       "      <td>5</td>\n",
       "      <td>7935429</td>\n",
       "      <td>4.623706e+05</td>\n",
       "      <td>2013</td>\n",
       "      <td>1.0</td>\n",
       "      <td>330.367</td>\n",
       "    </tr>\n",
       "    <tr>\n",
       "      <th>9</th>\n",
       "      <td>0</td>\n",
       "      <td>2</td>\n",
       "      <td>1</td>\n",
       "      <td>43754</td>\n",
       "      <td>3.200558e+07</td>\n",
       "      <td>2013</td>\n",
       "      <td>2.0</td>\n",
       "      <td>12187.566</td>\n",
       "    </tr>\n",
       "    <tr>\n",
       "      <th>10</th>\n",
       "      <td>2</td>\n",
       "      <td>2</td>\n",
       "      <td>1</td>\n",
       "      <td>6596469</td>\n",
       "      <td>4.074073e+06</td>\n",
       "      <td>2013</td>\n",
       "      <td>0.0</td>\n",
       "      <td>1977.945</td>\n",
       "    </tr>\n",
       "    <tr>\n",
       "      <th>11</th>\n",
       "      <td>0</td>\n",
       "      <td>2</td>\n",
       "      <td>2</td>\n",
       "      <td>401622</td>\n",
       "      <td>2.804313e+06</td>\n",
       "      <td>2013</td>\n",
       "      <td>2.0</td>\n",
       "      <td>1315.006</td>\n",
       "    </tr>\n",
       "    <tr>\n",
       "      <th>12</th>\n",
       "      <td>1</td>\n",
       "      <td>2</td>\n",
       "      <td>2</td>\n",
       "      <td>364525</td>\n",
       "      <td>4.351855e+05</td>\n",
       "      <td>2013</td>\n",
       "      <td>0.0</td>\n",
       "      <td>309.340</td>\n",
       "    </tr>\n",
       "    <tr>\n",
       "      <th>13</th>\n",
       "      <td>2</td>\n",
       "      <td>2</td>\n",
       "      <td>2</td>\n",
       "      <td>9684315</td>\n",
       "      <td>2.481817e+06</td>\n",
       "      <td>2013</td>\n",
       "      <td>0.0</td>\n",
       "      <td>1250.836</td>\n",
       "    </tr>\n",
       "    <tr>\n",
       "      <th>14</th>\n",
       "      <td>3</td>\n",
       "      <td>2</td>\n",
       "      <td>2</td>\n",
       "      <td>14019775</td>\n",
       "      <td>8.445781e+07</td>\n",
       "      <td>2013</td>\n",
       "      <td>0.0</td>\n",
       "      <td>37731.350</td>\n",
       "    </tr>\n",
       "    <tr>\n",
       "      <th>15</th>\n",
       "      <td>4</td>\n",
       "      <td>2</td>\n",
       "      <td>4</td>\n",
       "      <td>4059731</td>\n",
       "      <td>1.406852e+05</td>\n",
       "      <td>2013</td>\n",
       "      <td>0.0</td>\n",
       "      <td>170.041</td>\n",
       "    </tr>\n",
       "    <tr>\n",
       "      <th>16</th>\n",
       "      <td>5</td>\n",
       "      <td>2</td>\n",
       "      <td>4</td>\n",
       "      <td>19069406</td>\n",
       "      <td>1.652481e+07</td>\n",
       "      <td>2013</td>\n",
       "      <td>0.0</td>\n",
       "      <td>809.129</td>\n",
       "    </tr>\n",
       "    <tr>\n",
       "      <th>17</th>\n",
       "      <td>4</td>\n",
       "      <td>2</td>\n",
       "      <td>5</td>\n",
       "      <td>6711171</td>\n",
       "      <td>4.149312e+05</td>\n",
       "      <td>2013</td>\n",
       "      <td>0.0</td>\n",
       "      <td>307.268</td>\n",
       "    </tr>\n",
       "    <tr>\n",
       "      <th>18</th>\n",
       "      <td>0</td>\n",
       "      <td>3</td>\n",
       "      <td>1</td>\n",
       "      <td>60610</td>\n",
       "      <td>3.253005e+07</td>\n",
       "      <td>2013</td>\n",
       "      <td>4.0</td>\n",
       "      <td>13076.579</td>\n",
       "    </tr>\n",
       "    <tr>\n",
       "      <th>19</th>\n",
       "      <td>2</td>\n",
       "      <td>3</td>\n",
       "      <td>1</td>\n",
       "      <td>7031931</td>\n",
       "      <td>4.189423e+06</td>\n",
       "      <td>2013</td>\n",
       "      <td>3.0</td>\n",
       "      <td>2033.220</td>\n",
       "    </tr>\n",
       "    <tr>\n",
       "      <th>20</th>\n",
       "      <td>0</td>\n",
       "      <td>3</td>\n",
       "      <td>2</td>\n",
       "      <td>493902</td>\n",
       "      <td>2.573005e+06</td>\n",
       "      <td>2013</td>\n",
       "      <td>4.0</td>\n",
       "      <td>1192.655</td>\n",
       "    </tr>\n",
       "    <tr>\n",
       "      <th>21</th>\n",
       "      <td>1</td>\n",
       "      <td>3</td>\n",
       "      <td>2</td>\n",
       "      <td>292502</td>\n",
       "      <td>2.686941e+05</td>\n",
       "      <td>2013</td>\n",
       "      <td>1.0</td>\n",
       "      <td>226.664</td>\n",
       "    </tr>\n",
       "    <tr>\n",
       "      <th>22</th>\n",
       "      <td>2</td>\n",
       "      <td>3</td>\n",
       "      <td>2</td>\n",
       "      <td>10066654</td>\n",
       "      <td>2.821691e+06</td>\n",
       "      <td>2013</td>\n",
       "      <td>3.0</td>\n",
       "      <td>1407.936</td>\n",
       "    </tr>\n",
       "    <tr>\n",
       "      <th>23</th>\n",
       "      <td>3</td>\n",
       "      <td>3</td>\n",
       "      <td>2</td>\n",
       "      <td>13427369</td>\n",
       "      <td>8.915608e+07</td>\n",
       "      <td>2013</td>\n",
       "      <td>3.0</td>\n",
       "      <td>40274.631</td>\n",
       "    </tr>\n",
       "    <tr>\n",
       "      <th>24</th>\n",
       "      <td>4</td>\n",
       "      <td>3</td>\n",
       "      <td>4</td>\n",
       "      <td>3580954</td>\n",
       "      <td>1.593169e+05</td>\n",
       "      <td>2013</td>\n",
       "      <td>1.0</td>\n",
       "      <td>180.388</td>\n",
       "    </tr>\n",
       "    <tr>\n",
       "      <th>25</th>\n",
       "      <td>5</td>\n",
       "      <td>3</td>\n",
       "      <td>4</td>\n",
       "      <td>21216789</td>\n",
       "      <td>2.821708e+07</td>\n",
       "      <td>2013</td>\n",
       "      <td>2.0</td>\n",
       "      <td>1310.457</td>\n",
       "    </tr>\n",
       "    <tr>\n",
       "      <th>26</th>\n",
       "      <td>4</td>\n",
       "      <td>3</td>\n",
       "      <td>5</td>\n",
       "      <td>7701565</td>\n",
       "      <td>4.398835e+05</td>\n",
       "      <td>2013</td>\n",
       "      <td>1.0</td>\n",
       "      <td>318.857</td>\n",
       "    </tr>\n",
       "    <tr>\n",
       "      <th>27</th>\n",
       "      <td>0</td>\n",
       "      <td>4</td>\n",
       "      <td>1</td>\n",
       "      <td>93236</td>\n",
       "      <td>3.558870e+07</td>\n",
       "      <td>2013</td>\n",
       "      <td>1.0</td>\n",
       "      <td>14377.199</td>\n",
       "    </tr>\n",
       "    <tr>\n",
       "      <th>28</th>\n",
       "      <td>2</td>\n",
       "      <td>4</td>\n",
       "      <td>1</td>\n",
       "      <td>7573695</td>\n",
       "      <td>4.229307e+06</td>\n",
       "      <td>2013</td>\n",
       "      <td>0.0</td>\n",
       "      <td>2022.229</td>\n",
       "    </tr>\n",
       "    <tr>\n",
       "      <th>29</th>\n",
       "      <td>0</td>\n",
       "      <td>4</td>\n",
       "      <td>2</td>\n",
       "      <td>491355</td>\n",
       "      <td>3.436237e+06</td>\n",
       "      <td>2013</td>\n",
       "      <td>1.0</td>\n",
       "      <td>1658.633</td>\n",
       "    </tr>\n",
       "    <tr>\n",
       "      <th>...</th>\n",
       "      <td>...</td>\n",
       "      <td>...</td>\n",
       "      <td>...</td>\n",
       "      <td>...</td>\n",
       "      <td>...</td>\n",
       "      <td>...</td>\n",
       "      <td>...</td>\n",
       "      <td>...</td>\n",
       "    </tr>\n",
       "    <tr>\n",
       "      <th>463</th>\n",
       "      <td>3</td>\n",
       "      <td>1</td>\n",
       "      <td>2</td>\n",
       "      <td>79148</td>\n",
       "      <td>NaN</td>\n",
       "      <td>2017</td>\n",
       "      <td>1.0</td>\n",
       "      <td>61985.791</td>\n",
       "    </tr>\n",
       "    <tr>\n",
       "      <th>464</th>\n",
       "      <td>3</td>\n",
       "      <td>2</td>\n",
       "      <td>2</td>\n",
       "      <td>79149</td>\n",
       "      <td>NaN</td>\n",
       "      <td>2017</td>\n",
       "      <td>0.0</td>\n",
       "      <td>57087.558</td>\n",
       "    </tr>\n",
       "    <tr>\n",
       "      <th>465</th>\n",
       "      <td>3</td>\n",
       "      <td>3</td>\n",
       "      <td>2</td>\n",
       "      <td>79150</td>\n",
       "      <td>NaN</td>\n",
       "      <td>2017</td>\n",
       "      <td>0.0</td>\n",
       "      <td>67228.892</td>\n",
       "    </tr>\n",
       "    <tr>\n",
       "      <th>466</th>\n",
       "      <td>4</td>\n",
       "      <td>11</td>\n",
       "      <td>5</td>\n",
       "      <td>79151</td>\n",
       "      <td>NaN</td>\n",
       "      <td>2015</td>\n",
       "      <td>0.0</td>\n",
       "      <td>416.969</td>\n",
       "    </tr>\n",
       "    <tr>\n",
       "      <th>467</th>\n",
       "      <td>4</td>\n",
       "      <td>12</td>\n",
       "      <td>5</td>\n",
       "      <td>79152</td>\n",
       "      <td>NaN</td>\n",
       "      <td>2015</td>\n",
       "      <td>3.0</td>\n",
       "      <td>464.351</td>\n",
       "    </tr>\n",
       "    <tr>\n",
       "      <th>468</th>\n",
       "      <td>4</td>\n",
       "      <td>1</td>\n",
       "      <td>5</td>\n",
       "      <td>79153</td>\n",
       "      <td>NaN</td>\n",
       "      <td>2016</td>\n",
       "      <td>1.0</td>\n",
       "      <td>349.703</td>\n",
       "    </tr>\n",
       "    <tr>\n",
       "      <th>469</th>\n",
       "      <td>4</td>\n",
       "      <td>2</td>\n",
       "      <td>5</td>\n",
       "      <td>79154</td>\n",
       "      <td>NaN</td>\n",
       "      <td>2016</td>\n",
       "      <td>0.0</td>\n",
       "      <td>333.141</td>\n",
       "    </tr>\n",
       "    <tr>\n",
       "      <th>470</th>\n",
       "      <td>4</td>\n",
       "      <td>3</td>\n",
       "      <td>5</td>\n",
       "      <td>79155</td>\n",
       "      <td>NaN</td>\n",
       "      <td>2016</td>\n",
       "      <td>2.0</td>\n",
       "      <td>427.817</td>\n",
       "    </tr>\n",
       "    <tr>\n",
       "      <th>471</th>\n",
       "      <td>4</td>\n",
       "      <td>4</td>\n",
       "      <td>5</td>\n",
       "      <td>79156</td>\n",
       "      <td>NaN</td>\n",
       "      <td>2016</td>\n",
       "      <td>0.0</td>\n",
       "      <td>399.159</td>\n",
       "    </tr>\n",
       "    <tr>\n",
       "      <th>472</th>\n",
       "      <td>4</td>\n",
       "      <td>5</td>\n",
       "      <td>5</td>\n",
       "      <td>79157</td>\n",
       "      <td>NaN</td>\n",
       "      <td>2016</td>\n",
       "      <td>2.0</td>\n",
       "      <td>400.744</td>\n",
       "    </tr>\n",
       "    <tr>\n",
       "      <th>473</th>\n",
       "      <td>4</td>\n",
       "      <td>6</td>\n",
       "      <td>5</td>\n",
       "      <td>79158</td>\n",
       "      <td>NaN</td>\n",
       "      <td>2016</td>\n",
       "      <td>0.0</td>\n",
       "      <td>426.198</td>\n",
       "    </tr>\n",
       "    <tr>\n",
       "      <th>474</th>\n",
       "      <td>4</td>\n",
       "      <td>7</td>\n",
       "      <td>5</td>\n",
       "      <td>79159</td>\n",
       "      <td>NaN</td>\n",
       "      <td>2016</td>\n",
       "      <td>0.0</td>\n",
       "      <td>378.903</td>\n",
       "    </tr>\n",
       "    <tr>\n",
       "      <th>475</th>\n",
       "      <td>4</td>\n",
       "      <td>11</td>\n",
       "      <td>4</td>\n",
       "      <td>79160</td>\n",
       "      <td>NaN</td>\n",
       "      <td>2015</td>\n",
       "      <td>0.0</td>\n",
       "      <td>171.166</td>\n",
       "    </tr>\n",
       "    <tr>\n",
       "      <th>476</th>\n",
       "      <td>4</td>\n",
       "      <td>12</td>\n",
       "      <td>4</td>\n",
       "      <td>79161</td>\n",
       "      <td>NaN</td>\n",
       "      <td>2015</td>\n",
       "      <td>3.0</td>\n",
       "      <td>194.468</td>\n",
       "    </tr>\n",
       "    <tr>\n",
       "      <th>477</th>\n",
       "      <td>4</td>\n",
       "      <td>1</td>\n",
       "      <td>4</td>\n",
       "      <td>79162</td>\n",
       "      <td>NaN</td>\n",
       "      <td>2016</td>\n",
       "      <td>1.0</td>\n",
       "      <td>162.639</td>\n",
       "    </tr>\n",
       "    <tr>\n",
       "      <th>478</th>\n",
       "      <td>4</td>\n",
       "      <td>2</td>\n",
       "      <td>4</td>\n",
       "      <td>79163</td>\n",
       "      <td>NaN</td>\n",
       "      <td>2016</td>\n",
       "      <td>0.0</td>\n",
       "      <td>163.553</td>\n",
       "    </tr>\n",
       "    <tr>\n",
       "      <th>479</th>\n",
       "      <td>4</td>\n",
       "      <td>3</td>\n",
       "      <td>4</td>\n",
       "      <td>79164</td>\n",
       "      <td>NaN</td>\n",
       "      <td>2016</td>\n",
       "      <td>2.0</td>\n",
       "      <td>174.685</td>\n",
       "    </tr>\n",
       "    <tr>\n",
       "      <th>480</th>\n",
       "      <td>4</td>\n",
       "      <td>4</td>\n",
       "      <td>4</td>\n",
       "      <td>79165</td>\n",
       "      <td>NaN</td>\n",
       "      <td>2016</td>\n",
       "      <td>0.0</td>\n",
       "      <td>172.181</td>\n",
       "    </tr>\n",
       "    <tr>\n",
       "      <th>481</th>\n",
       "      <td>4</td>\n",
       "      <td>5</td>\n",
       "      <td>4</td>\n",
       "      <td>79166</td>\n",
       "      <td>NaN</td>\n",
       "      <td>2016</td>\n",
       "      <td>2.0</td>\n",
       "      <td>175.224</td>\n",
       "    </tr>\n",
       "    <tr>\n",
       "      <th>482</th>\n",
       "      <td>4</td>\n",
       "      <td>6</td>\n",
       "      <td>4</td>\n",
       "      <td>79167</td>\n",
       "      <td>NaN</td>\n",
       "      <td>2016</td>\n",
       "      <td>0.0</td>\n",
       "      <td>181.402</td>\n",
       "    </tr>\n",
       "    <tr>\n",
       "      <th>483</th>\n",
       "      <td>4</td>\n",
       "      <td>7</td>\n",
       "      <td>4</td>\n",
       "      <td>79168</td>\n",
       "      <td>NaN</td>\n",
       "      <td>2016</td>\n",
       "      <td>0.0</td>\n",
       "      <td>157.756</td>\n",
       "    </tr>\n",
       "    <tr>\n",
       "      <th>484</th>\n",
       "      <td>5</td>\n",
       "      <td>11</td>\n",
       "      <td>4</td>\n",
       "      <td>79169</td>\n",
       "      <td>NaN</td>\n",
       "      <td>2015</td>\n",
       "      <td>0.0</td>\n",
       "      <td>1306.731</td>\n",
       "    </tr>\n",
       "    <tr>\n",
       "      <th>485</th>\n",
       "      <td>5</td>\n",
       "      <td>12</td>\n",
       "      <td>4</td>\n",
       "      <td>79170</td>\n",
       "      <td>NaN</td>\n",
       "      <td>2015</td>\n",
       "      <td>4.0</td>\n",
       "      <td>1499.447</td>\n",
       "    </tr>\n",
       "    <tr>\n",
       "      <th>486</th>\n",
       "      <td>5</td>\n",
       "      <td>1</td>\n",
       "      <td>4</td>\n",
       "      <td>79171</td>\n",
       "      <td>NaN</td>\n",
       "      <td>2016</td>\n",
       "      <td>2.0</td>\n",
       "      <td>1181.306</td>\n",
       "    </tr>\n",
       "    <tr>\n",
       "      <th>487</th>\n",
       "      <td>5</td>\n",
       "      <td>2</td>\n",
       "      <td>4</td>\n",
       "      <td>79172</td>\n",
       "      <td>NaN</td>\n",
       "      <td>2016</td>\n",
       "      <td>0.0</td>\n",
       "      <td>940.191</td>\n",
       "    </tr>\n",
       "    <tr>\n",
       "      <th>488</th>\n",
       "      <td>5</td>\n",
       "      <td>3</td>\n",
       "      <td>4</td>\n",
       "      <td>79173</td>\n",
       "      <td>NaN</td>\n",
       "      <td>2016</td>\n",
       "      <td>3.0</td>\n",
       "      <td>1439.734</td>\n",
       "    </tr>\n",
       "    <tr>\n",
       "      <th>489</th>\n",
       "      <td>5</td>\n",
       "      <td>4</td>\n",
       "      <td>4</td>\n",
       "      <td>79174</td>\n",
       "      <td>NaN</td>\n",
       "      <td>2016</td>\n",
       "      <td>0.0</td>\n",
       "      <td>1378.859</td>\n",
       "    </tr>\n",
       "    <tr>\n",
       "      <th>490</th>\n",
       "      <td>5</td>\n",
       "      <td>5</td>\n",
       "      <td>4</td>\n",
       "      <td>79175</td>\n",
       "      <td>NaN</td>\n",
       "      <td>2016</td>\n",
       "      <td>3.0</td>\n",
       "      <td>970.194</td>\n",
       "    </tr>\n",
       "    <tr>\n",
       "      <th>491</th>\n",
       "      <td>5</td>\n",
       "      <td>6</td>\n",
       "      <td>4</td>\n",
       "      <td>79176</td>\n",
       "      <td>NaN</td>\n",
       "      <td>2016</td>\n",
       "      <td>2.0</td>\n",
       "      <td>1289.024</td>\n",
       "    </tr>\n",
       "    <tr>\n",
       "      <th>492</th>\n",
       "      <td>5</td>\n",
       "      <td>7</td>\n",
       "      <td>4</td>\n",
       "      <td>79177</td>\n",
       "      <td>NaN</td>\n",
       "      <td>2016</td>\n",
       "      <td>0.0</td>\n",
       "      <td>900.083</td>\n",
       "    </tr>\n",
       "  </tbody>\n",
       "</table>\n",
       "<p>493 rows × 8 columns</p>\n",
       "</div>"
      ],
      "text/plain": [
       "     Country  Month  Product_ID      S_No         Sales  Year  count  \\\n",
       "0          0      1           1     15931  3.434602e+07  2013    1.0   \n",
       "1          2      1           1   6536745  3.947356e+06  2013    2.0   \n",
       "2          0      1           2    364805  2.751851e+06  2013    1.0   \n",
       "3          1      1           2    280368  3.148501e+05  2013    1.0   \n",
       "4          2      1           2  11298201  2.885137e+06  2013    2.0   \n",
       "5          3      1           2  15814500  1.018476e+08  2013    1.0   \n",
       "6          4      1           4   3437725  1.669076e+05  2013    1.0   \n",
       "7          5      1           4  19351332  1.515342e+07  2013    2.0   \n",
       "8          4      1           5   7935429  4.623706e+05  2013    1.0   \n",
       "9          0      2           1     43754  3.200558e+07  2013    2.0   \n",
       "10         2      2           1   6596469  4.074073e+06  2013    0.0   \n",
       "11         0      2           2    401622  2.804313e+06  2013    2.0   \n",
       "12         1      2           2    364525  4.351855e+05  2013    0.0   \n",
       "13         2      2           2   9684315  2.481817e+06  2013    0.0   \n",
       "14         3      2           2  14019775  8.445781e+07  2013    0.0   \n",
       "15         4      2           4   4059731  1.406852e+05  2013    0.0   \n",
       "16         5      2           4  19069406  1.652481e+07  2013    0.0   \n",
       "17         4      2           5   6711171  4.149312e+05  2013    0.0   \n",
       "18         0      3           1     60610  3.253005e+07  2013    4.0   \n",
       "19         2      3           1   7031931  4.189423e+06  2013    3.0   \n",
       "20         0      3           2    493902  2.573005e+06  2013    4.0   \n",
       "21         1      3           2    292502  2.686941e+05  2013    1.0   \n",
       "22         2      3           2  10066654  2.821691e+06  2013    3.0   \n",
       "23         3      3           2  13427369  8.915608e+07  2013    3.0   \n",
       "24         4      3           4   3580954  1.593169e+05  2013    1.0   \n",
       "25         5      3           4  21216789  2.821708e+07  2013    2.0   \n",
       "26         4      3           5   7701565  4.398835e+05  2013    1.0   \n",
       "27         0      4           1     93236  3.558870e+07  2013    1.0   \n",
       "28         2      4           1   7573695  4.229307e+06  2013    0.0   \n",
       "29         0      4           2    491355  3.436237e+06  2013    1.0   \n",
       "..       ...    ...         ...       ...           ...   ...    ...   \n",
       "463        3      1           2     79148           NaN  2017    1.0   \n",
       "464        3      2           2     79149           NaN  2017    0.0   \n",
       "465        3      3           2     79150           NaN  2017    0.0   \n",
       "466        4     11           5     79151           NaN  2015    0.0   \n",
       "467        4     12           5     79152           NaN  2015    3.0   \n",
       "468        4      1           5     79153           NaN  2016    1.0   \n",
       "469        4      2           5     79154           NaN  2016    0.0   \n",
       "470        4      3           5     79155           NaN  2016    2.0   \n",
       "471        4      4           5     79156           NaN  2016    0.0   \n",
       "472        4      5           5     79157           NaN  2016    2.0   \n",
       "473        4      6           5     79158           NaN  2016    0.0   \n",
       "474        4      7           5     79159           NaN  2016    0.0   \n",
       "475        4     11           4     79160           NaN  2015    0.0   \n",
       "476        4     12           4     79161           NaN  2015    3.0   \n",
       "477        4      1           4     79162           NaN  2016    1.0   \n",
       "478        4      2           4     79163           NaN  2016    0.0   \n",
       "479        4      3           4     79164           NaN  2016    2.0   \n",
       "480        4      4           4     79165           NaN  2016    0.0   \n",
       "481        4      5           4     79166           NaN  2016    2.0   \n",
       "482        4      6           4     79167           NaN  2016    0.0   \n",
       "483        4      7           4     79168           NaN  2016    0.0   \n",
       "484        5     11           4     79169           NaN  2015    0.0   \n",
       "485        5     12           4     79170           NaN  2015    4.0   \n",
       "486        5      1           4     79171           NaN  2016    2.0   \n",
       "487        5      2           4     79172           NaN  2016    0.0   \n",
       "488        5      3           4     79173           NaN  2016    3.0   \n",
       "489        5      4           4     79174           NaN  2016    0.0   \n",
       "490        5      5           4     79175           NaN  2016    3.0   \n",
       "491        5      6           4     79176           NaN  2016    2.0   \n",
       "492        5      7           4     79177           NaN  2016    0.0   \n",
       "\n",
       "     Expense_Price  \n",
       "0        14749.307  \n",
       "1         1893.122  \n",
       "2         1329.374  \n",
       "3          249.590  \n",
       "4         1436.726  \n",
       "5        43843.906  \n",
       "6          183.482  \n",
       "7          750.618  \n",
       "8          330.367  \n",
       "9        12187.566  \n",
       "10        1977.945  \n",
       "11        1315.006  \n",
       "12         309.340  \n",
       "13        1250.836  \n",
       "14       37731.350  \n",
       "15         170.041  \n",
       "16         809.129  \n",
       "17         307.268  \n",
       "18       13076.579  \n",
       "19        2033.220  \n",
       "20        1192.655  \n",
       "21         226.664  \n",
       "22        1407.936  \n",
       "23       40274.631  \n",
       "24         180.388  \n",
       "25        1310.457  \n",
       "26         318.857  \n",
       "27       14377.199  \n",
       "28        2022.229  \n",
       "29        1658.633  \n",
       "..             ...  \n",
       "463      61985.791  \n",
       "464      57087.558  \n",
       "465      67228.892  \n",
       "466        416.969  \n",
       "467        464.351  \n",
       "468        349.703  \n",
       "469        333.141  \n",
       "470        427.817  \n",
       "471        399.159  \n",
       "472        400.744  \n",
       "473        426.198  \n",
       "474        378.903  \n",
       "475        171.166  \n",
       "476        194.468  \n",
       "477        162.639  \n",
       "478        163.553  \n",
       "479        174.685  \n",
       "480        172.181  \n",
       "481        175.224  \n",
       "482        181.402  \n",
       "483        157.756  \n",
       "484       1306.731  \n",
       "485       1499.447  \n",
       "486       1181.306  \n",
       "487        940.191  \n",
       "488       1439.734  \n",
       "489       1378.859  \n",
       "490        970.194  \n",
       "491       1289.024  \n",
       "492        900.083  \n",
       "\n",
       "[493 rows x 8 columns]"
      ]
     },
     "execution_count": 20,
     "metadata": {},
     "output_type": "execute_result"
    }
   ],
   "source": [
    "train_test"
   ]
  },
  {
   "cell_type": "code",
   "execution_count": 20,
   "metadata": {},
   "outputs": [],
   "source": [
    "def smape(actual,forecast):\n",
    "    res=0\n",
    "    for i in range(len(actual)):\n",
    "        res+=abs(forecast[i]-actual[i])/((abs(actual[i])+abs(forecast[i]))/2)\n",
    "    s=(res*100/len(actual))\n",
    "    s=(2 - (s/100))\n",
    "    return s\n"
   ]
  },
  {
   "cell_type": "code",
   "execution_count": 21,
   "metadata": {},
   "outputs": [],
   "source": [
    "X_Data=train_test[train_test[\"Sales\"].notnull()]\n",
    "X_test=train_test[train_test[\"Sales\"].isnull()]\n"
   ]
  },
  {
   "cell_type": "code",
   "execution_count": 22,
   "metadata": {},
   "outputs": [
    {
     "name": "stderr",
     "output_type": "stream",
     "text": [
      "/home/saksham/.local/lib/python3.6/site-packages/ipykernel_launcher.py:2: SettingWithCopyWarning: \n",
      "A value is trying to be set on a copy of a slice from a DataFrame\n",
      "\n",
      "See the caveats in the documentation: http://pandas.pydata.org/pandas-docs/stable/indexing.html#indexing-view-versus-copy\n",
      "  \n",
      "/home/saksham/.local/lib/python3.6/site-packages/ipykernel_launcher.py:3: SettingWithCopyWarning: \n",
      "A value is trying to be set on a copy of a slice from a DataFrame\n",
      "\n",
      "See the caveats in the documentation: http://pandas.pydata.org/pandas-docs/stable/indexing.html#indexing-view-versus-copy\n",
      "  This is separate from the ipykernel package so we can avoid doing imports until\n"
     ]
    }
   ],
   "source": [
    "Y_Data=X_Data[\"Sales\"]\n",
    "X_Data.drop([\"S_No\",\"Sales\"],inplace=True,axis=1)\n",
    "X_test.drop([\"S_No\",\"Sales\"],inplace=True,axis=1)\n",
    "X_train, X_val, y_train, y_val=train_test_split(X_Data,Y_Data,test_size=0.2)\n"
   ]
  },
  {
   "cell_type": "code",
   "execution_count": 23,
   "metadata": {},
   "outputs": [],
   "source": [
    "X_train.reset_index(inplace=True,drop=True)\n",
    "X_val.reset_index(drop=True,inplace=True)\n",
    "y_train.reset_index(drop=True,inplace=True)\n",
    "y_val.reset_index(drop=True,inplace=True)"
   ]
  },
  {
   "cell_type": "code",
   "execution_count": 24,
   "metadata": {},
   "outputs": [],
   "source": [
    "def nearest_neighbour(X_train,y_train,X_val,y_val,n=5,weight=\"uniform\"):\n",
    "    neigh=KNeighborsRegressor(n_neighbors=n,weights=weight)\n",
    "    neigh.fit(X_train,y_train)\n",
    "    pred=neigh.predict(X_val)\n",
    "    #print(pred)\n",
    "    s=smape(y_val,pred)\n",
    "    print(\"score is {}\".format(s))\n",
    "    return neigh\n",
    "    "
   ]
  },
  {
   "cell_type": "code",
   "execution_count": 25,
   "metadata": {},
   "outputs": [
    {
     "name": "stdout",
     "output_type": "stream",
     "text": [
      "score is 1.5646921936085971\n"
     ]
    }
   ],
   "source": [
    "classifier_knn=nearest_neighbour(X_train,y_train,X_val,y_val,n=7,weight=\"distance\")"
   ]
  },
  {
   "cell_type": "code",
   "execution_count": 26,
   "metadata": {},
   "outputs": [],
   "source": [
    "pred=classifier_knn.predict(X_test)"
   ]
  },
  {
   "cell_type": "code",
   "execution_count": 27,
   "metadata": {},
   "outputs": [],
   "source": [
    "test[\"Sales\"]=pred"
   ]
  },
  {
   "cell_type": "code",
   "execution_count": 494,
   "metadata": {},
   "outputs": [],
   "source": [
    "test.to_csv(\"Hackearth/9555b456-8-dataset/dataset/solution.csv\",index=False)"
   ]
  },
  {
   "cell_type": "code",
   "execution_count": 27,
   "metadata": {},
   "outputs": [],
   "source": [
    "from sklearn.model_selection import KFold"
   ]
  },
  {
   "cell_type": "code",
   "execution_count": 28,
   "metadata": {},
   "outputs": [],
   "source": [
    "def Kfold_split(clf,X,y,X_test,n=3):\n",
    "    kf=KFold(n_splits=n)\n",
    "    accuarcy=[]\n",
    "    prediction=np.zeros(len(X_test))\n",
    "    for tr_indices,tt_indices in kf.split(X):\n",
    "        X_train,X_val=X.loc[tr_indices],X.loc[tt_indices]\n",
    "        y_train,y_val=y.loc[tr_indices],y.loc[tt_indices]\n",
    "        y_train.reset_index(drop=True,inplace=True)\n",
    "        y_val.reset_index(drop=True,inplace=True)\n",
    "        clf.fit(X_train,y_train)\n",
    "        pred=clf.predict(X_val)\n",
    "        prediction+=clf.predict(X_test)\n",
    "        \n",
    "        #print(a)\n",
    "        s=smape(y_val,pred)\n",
    "        accuarcy.append(s)\n",
    "    print(accuarcy)\n",
    "    acc=sum(accuarcy)/len(accuarcy)\n",
    "    print(\"Accuarcy is {}\".format(acc))\n",
    "    prediction=prediction/n\n",
    "    return (prediction,acc)\n",
    "    \n",
    "    "
   ]
  },
  {
   "cell_type": "code",
   "execution_count": 29,
   "metadata": {},
   "outputs": [
    {
     "name": "stdout",
     "output_type": "stream",
     "text": [
      "[1.6566923465180725, 1.7822095327418719, 1.5944993868057429, 1.557406174471045, 1.2256610820862486]\n",
      "Accuarcy is 1.5632937045245963\n"
     ]
    }
   ],
   "source": [
    "clf_knn=KNeighborsRegressor(n_neighbors=3,weights=\"distance\")\n",
    "a=Kfold_split(clf_knn,X_Data,Y_Data,X_test,n=5)"
   ]
  },
  {
   "cell_type": "code",
   "execution_count": 549,
   "metadata": {},
   "outputs": [],
   "source": [
    "test[\"Sales\"]=a[0]"
   ]
  },
  {
   "cell_type": "code",
   "execution_count": 550,
   "metadata": {},
   "outputs": [],
   "source": [
    "test.to_csv(\"Hackearth/9555b456-8-dataset/dataset/solution_knn_ens.csv\",index=False)"
   ]
  },
  {
   "cell_type": "code",
   "execution_count": 30,
   "metadata": {},
   "outputs": [],
   "source": [
    "from sklearn.preprocessing import StandardScaler"
   ]
  },
  {
   "cell_type": "code",
   "execution_count": 31,
   "metadata": {},
   "outputs": [],
   "source": [
    "### scaling the Expense Variable\n",
    "X_scaled=X_Data.copy()\n",
    "std=StandardScaler()\n",
    "a=np.asarray(list(X_Data[\"Expense_Price\"])+list(X_test[\"Expense_Price\"]))\n",
    "a=a.reshape(-1,1)\n",
    "b=std.fit_transform(a)\n",
    "X_test_scaled=X_test[:]\n",
    "X_test_scaled[\"Expense_Price\"]=b[X_scaled.shape[0]:]"
   ]
  },
  {
   "cell_type": "code",
   "execution_count": 32,
   "metadata": {},
   "outputs": [],
   "source": [
    "X_scaled[\"Expense_Price\"]=b[:X_scaled.shape[0]]"
   ]
  },
  {
   "cell_type": "code",
   "execution_count": 33,
   "metadata": {},
   "outputs": [
    {
     "name": "stdout",
     "output_type": "stream",
     "text": [
      "[1.6566923465180725, 1.7822095327418719, 1.5944993868057429, 1.557406174471045, 1.2256610820862486]\n",
      "Accuarcy is 1.5632937045245963\n"
     ]
    }
   ],
   "source": [
    "clf_knn=KNeighborsRegressor(n_neighbors=3,weights=\"distance\")\n",
    "pred_knn,_=Kfold_split(clf_knn,X_Data,Y_Data,X_test,n=5)"
   ]
  },
  {
   "cell_type": "code",
   "execution_count": 35,
   "metadata": {},
   "outputs": [],
   "source": [
    "from sklearn.linear_model import LinearRegression\n",
    "from sklearn.svm import SVR"
   ]
  },
  {
   "cell_type": "code",
   "execution_count": 36,
   "metadata": {},
   "outputs": [],
   "source": [
    "svr = SVR(kernel='linear')\n",
    "lm = LinearRegression()"
   ]
  },
  {
   "cell_type": "code",
   "execution_count": 37,
   "metadata": {},
   "outputs": [
    {
     "name": "stdout",
     "output_type": "stream",
     "text": [
      "[1.1396072082658963, 1.2261480739279882, 1.1944926639990534, 1.1150632983051538, 0.965896536017703]\n",
      "Accuarcy is 1.128241556103159\n"
     ]
    }
   ],
   "source": [
    "## Linear Regression\n",
    "lm = LinearRegression(normalize=True)\n",
    "a=Kfold_split(lm,X_Data,Y_Data,X_test,n=5)"
   ]
  },
  {
   "cell_type": "code",
   "execution_count": 38,
   "metadata": {},
   "outputs": [
    {
     "name": "stdout",
     "output_type": "stream",
     "text": [
      "[1.6874176603506368, 1.6563546991034594, 1.5434817331290138, 1.5263871271268714, 1.363763589919814]\n",
      "Accuarcy is 1.555480961925959\n"
     ]
    }
   ],
   "source": [
    "###SVR \n",
    "svr =SVR(C=0.3, epsilon=0.7,kernel=\"linear\")\n",
    "pred_svr,_=Kfold_split(svr,X_Data,Y_Data,X_test,n=5)\n"
   ]
  },
  {
   "cell_type": "code",
   "execution_count": 39,
   "metadata": {},
   "outputs": [],
   "source": [
    "## Light gbm\n",
    "import lightgbm as lgb"
   ]
  },
  {
   "cell_type": "code",
   "execution_count": 44,
   "metadata": {},
   "outputs": [
    {
     "name": "stdout",
     "output_type": "stream",
     "text": [
      "[1.4647117086007644, 1.749103708758645, 1.6003581845795263, 1.3962597872308997, 1.1079514026018678]\n",
      "Accuarcy is 1.4636769583543408\n"
     ]
    }
   ],
   "source": [
    "clf=lgb.LGBMRegressor(learning_rate=.05,num_leaves=100,n_estimators=70,max_depth=7,subsample_for_bin=175)\n",
    "a=Kfold_split(clf,X_scaled,Y_Data,X_test,n=5)"
   ]
  },
  {
   "cell_type": "code",
   "execution_count": 45,
   "metadata": {},
   "outputs": [
    {
     "name": "stdout",
     "output_type": "stream",
     "text": [
      "[1.5521222563474821, 1.7441364693550474, 1.585321291656618, 1.3452087087074873, 1.1421005933609092]\n",
      "Accuarcy is 1.4737778638855088\n"
     ]
    }
   ],
   "source": [
    "clf=lgb.LGBMRegressor(learning_rate=.05,num_leaves=150,n_estimators=80,max_depth=17,subsample_for_bin=175)\n",
    "pred_l,_=Kfold_split(clf,X_Data,Y_Data,X_test,n=5)"
   ]
  },
  {
   "cell_type": "code",
   "execution_count": 40,
   "metadata": {},
   "outputs": [
    {
     "data": {
      "text/plain": [
       "Index(['Country', 'Month', 'Product_ID', 'Year', 'count', 'Expense_Price'], dtype='object')"
      ]
     },
     "execution_count": 40,
     "metadata": {},
     "output_type": "execute_result"
    }
   ],
   "source": [
    "X_Data.columns"
   ]
  },
  {
   "cell_type": "code",
   "execution_count": 48,
   "metadata": {},
   "outputs": [],
   "source": [
    "def best_features(X_train,y_train,X_test,clf):\n",
    "    lt=list(X_train.columns)\n",
    "    for ft in lt:\n",
    "        X_revised_tr=X_train.drop(ft,axis=1)\n",
    "        X_rev_tt=X_test.drop(ft,axis=1)\n",
    "        _,acc=Kfold_split(clf,X_revised_tr,y_train,X_rev_tt,n=5)\n",
    "        print(\"acc {} without ft {}\".format(acc,ft))\n",
    "    "
   ]
  },
  {
   "cell_type": "code",
   "execution_count": 49,
   "metadata": {},
   "outputs": [
    {
     "name": "stdout",
     "output_type": "stream",
     "text": [
      "[1.6089574786320848, 1.7790687368980287, 1.5947929251682402, 1.5655463397162963, 1.2307421395778018]\n",
      "Accuarcy is 1.5558215239984903\n",
      "acc 1.5558215239984903 without ft Country\n",
      "[1.617198048829196, 1.7756724608977081, 1.5863372132979578, 1.5692912294208619, 1.2346586043055967]\n",
      "Accuarcy is 1.556631511350264\n",
      "acc 1.556631511350264 without ft Month\n",
      "[1.6096134980498293, 1.7797813142037215, 1.5951289918503553, 1.567268663299742, 1.2310684548380297]\n",
      "Accuarcy is 1.5565721844483356\n",
      "acc 1.5565721844483356 without ft Product_ID\n",
      "[1.6114826894594043, 1.7798911142060316, 1.5966482924694747, 1.567534069842402, 1.2330492352400155]\n",
      "Accuarcy is 1.5577210802434656\n",
      "acc 1.5577210802434656 without ft Year\n",
      "[1.6112778840338213, 1.7792742036081304, 1.5969270866290595, 1.5677374352656406, 1.2335245359106892]\n",
      "Accuarcy is 1.5577482290894682\n",
      "acc 1.5577482290894682 without ft count\n",
      "[0.9091488565989689, 1.1417481731491599, 1.1646454788738478, 1.0446974604032953, 1.0151066071096575]\n",
      "Accuarcy is 1.0550693152269859\n",
      "acc 1.0550693152269859 without ft Expense_Price\n"
     ]
    }
   ],
   "source": [
    "clf_knn=KNeighborsRegressor(n_neighbors=7,weights=\"distance\")\n",
    "best_features(X_Data,Y_Data,X_test,clf_knn)"
   ]
  },
  {
   "cell_type": "code",
   "execution_count": 67,
   "metadata": {},
   "outputs": [
    {
     "data": {
      "text/plain": [
       "0    14749.307\n",
       "1     1893.122\n",
       "2     1329.374\n",
       "3      249.590\n",
       "4     1436.726\n",
       "Name: Expense_Price, dtype: float64"
      ]
     },
     "execution_count": 67,
     "metadata": {},
     "output_type": "execute_result"
    }
   ],
   "source": [
    "X_Data[\"Expense_Price\"].head()"
   ]
  },
  {
   "cell_type": "code",
   "execution_count": 74,
   "metadata": {},
   "outputs": [],
   "source": [
    "X_new_ft=X_Data.copy()\n",
    "X_new_ft[\"new\"]=X_Data[\"Expense_Price\"]*X_Data[\"count\"]\n",
    "X_tt=X_test.copy()\n",
    "X_tt[\"new\"]=X_test[\"Expense_Price\"]*X_test[\"count\"]\n"
   ]
  },
  {
   "cell_type": "code",
   "execution_count": 75,
   "metadata": {},
   "outputs": [
    {
     "name": "stdout",
     "output_type": "stream",
     "text": [
      "[1.598710182999776, 1.7343888155598048, 1.552517792103835, 1.4982384242704914, 1.2558793668164063]\n",
      "Accuarcy is 1.527946916350063\n"
     ]
    }
   ],
   "source": [
    "clf_knn=KNeighborsRegressor(n_neighbors=3,weights=\"distance\")\n",
    "a=Kfold_split(clf_knn,X_new_ft,Y_Data,X_tt,n=5)"
   ]
  },
  {
   "cell_type": "code",
   "execution_count": 57,
   "metadata": {},
   "outputs": [
    {
     "data": {
      "image/png": "[encoded data removed]",
      "text/plain": [
       "<Figure size 864x720 with 2 Axes>"
      ]
     },
     "metadata": {},
     "output_type": "display_data"
    }
   ],
   "source": [
    "cont_feat=[\"Month\",\"Year\",\"count\",\"Expense_Price\"]\n",
    "cor_df=pd.concat([X_Data[cont_feat],Y_Data],axis=1)\n",
    "import seaborn as sns\n",
    "corr=cor_df.corr()\n",
    "plt.figure(figsize=(12,10))\n",
    "sns.heatmap(corr,annot=True,square=True,linewidths=.15)\n",
    "plt.xticks(label=cont_feat,size='x-large',rotation='vertical')\n",
    "plt.yticks(y=cont_feat,size='x-large',rotation='horizontal')\n",
    "plt.show()"
   ]
  },
  {
   "cell_type": "code",
   "execution_count": 78,
   "metadata": {},
   "outputs": [
    {
     "data": {
      "text/plain": [
       "<matplotlib.axes._subplots.AxesSubplot at 0x7f4cc902df28>"
      ]
     },
     "execution_count": 78,
     "metadata": {},
     "output_type": "execute_result"
    },
    {
     "data": {
      "image/png": "[encoded data removed]",
      "text/plain": [
       "<Figure size 432x288 with 1 Axes>"
      ]
     },
     "metadata": {},
     "output_type": "display_data"
    }
   ],
   "source": [
    "sns.barplot(x=X_Data[\"Country\"],y=Y_Data)"
   ]
  },
  {
   "cell_type": "code",
   "execution_count": 77,
   "metadata": {},
   "outputs": [
    {
     "data": {
      "text/plain": [
       "Index(['Country', 'Month', 'Product_ID', 'Year', 'count', 'Expense_Price'], dtype='object')"
      ]
     },
     "execution_count": 77,
     "metadata": {},
     "output_type": "execute_result"
    }
   ],
   "source": [
    "X_Data.columns"
   ]
  },
  {
   "cell_type": "code",
   "execution_count": 84,
   "metadata": {},
   "outputs": [],
   "source": [
    "p=np.zeros(X_Data.shape[0])\n",
    "index_tr=X_Data[\"Country\"]==3\n",
    "p_tt=np.zeros(X_test.shape[0])\n",
    "index_tt=X_test[\"Country\"]==3\n",
    "p[index_tr]=1\n",
    "p_tt[index_tt]=1\n"
   ]
  },
  {
   "cell_type": "code",
   "execution_count": 85,
   "metadata": {},
   "outputs": [],
   "source": [
    "X_new_ft=X_Data.copy()\n",
    "X_new_ft[\"new\"]=p\n",
    "X_tt=X_test.copy()\n",
    "X_tt[\"new\"]=p_tt\n",
    "\n"
   ]
  },
  {
   "cell_type": "code",
   "execution_count": 86,
   "metadata": {},
   "outputs": [
    {
     "name": "stdout",
     "output_type": "stream",
     "text": [
      "[1.6566923465180725, 1.7822095327867638, 1.5944993868057429, 1.557406174471045, 1.225661082088167]\n",
      "Accuarcy is 1.5632937045339583\n"
     ]
    }
   ],
   "source": [
    "clf_knn=KNeighborsRegressor(n_neighbors=3,weights=\"distance\")\n",
    "a=Kfold_split(clf_knn,X_new_ft,Y_Data,X_tt,n=5)"
   ]
  },
  {
   "cell_type": "code",
   "execution_count": null,
   "metadata": {},
   "outputs": [],
   "source": []
  }
 ],
 "metadata": {
  "kernelspec": {
   "display_name": "Python 3",
   "language": "python",
   "name": "python3"
  },
  "language_info": {
   "codemirror_mode": {
    "name": "ipython",
    "version": 3
   },
   "file_extension": ".py",
   "mimetype": "text/x-python",
   "name": "python",
   "nbconvert_exporter": "python",
   "pygments_lexer": "ipython3",
   "version": "3.6.5"
  }
 },
 "nbformat": 4,
 "nbformat_minor": 2
}
